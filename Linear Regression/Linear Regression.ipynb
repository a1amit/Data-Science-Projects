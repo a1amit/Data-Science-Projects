{
  "nbformat": 4,
  "nbformat_minor": 0,
  "metadata": {
    "colab": {
      "name": "hw6_318969045_325294429.ipynb",
      "provenance": [],
      "collapsed_sections": []
    },
    "kernelspec": {
      "name": "python3",
      "display_name": "Python 3"
    },
    "language_info": {
      "name": "python"
    }
  },
  "cells": [
    {
      "cell_type": "markdown",
      "source": [
        "מגישים: עמית אברמוביץ-318969045 ויוסי חדד-325294429"
      ],
      "metadata": {
        "id": "Zfg_4LfZ8ene"
      }
    },
    {
      "cell_type": "markdown",
      "metadata": {
        "id": "CQUak3Pr2f0d"
      },
      "source": [
        "## 0. Setting the kaggle API And downloading the dataset "
      ]
    },
    {
      "cell_type": "code",
      "source": [
        "import pandas as pd\n",
        "import numpy as np\n",
        "import re\n",
        "import matplotlib\n",
        "import matplotlib.pyplot as plt\n",
        "from scipy.stats import pearsonr\n",
        "%matplotlib inline"
      ],
      "metadata": {
        "id": "SPl4d4RS3hbN"
      },
      "execution_count": 41,
      "outputs": []
    },
    {
      "cell_type": "code",
      "execution_count": null,
      "metadata": {
        "id": "g6XJG-i37lFt"
      },
      "outputs": [],
      "source": [
        "import json\n",
        "import os\n",
        "\n",
        "# Installing the Kaggle package\n",
        "!pip install kaggle \n",
        "\n",
        "!mkdir /root/.kaggle/ \n",
        "\n",
        "#Important Note: complete this with your own key - after running this for the first time remmember to **remove** your API_KEY\n",
        "api_token = {\"username\":\"<>\",\"key\":\"<>\"}\n",
        "\n",
        "\n",
        "# creating kaggle.json file with the personal API-Key details \n",
        "# You can also put this file on your Google Drive\n",
        "with open('/root/.kaggle/kaggle.json', 'w') as file:\n",
        "  json.dump(api_token, file)\n",
        "!chmod 600 /root/.kaggle/kaggle.json"
      ]
    },
    {
      "cell_type": "markdown",
      "source": [
        "**Cars API:**"
      ],
      "metadata": {
        "id": "LTWTR1n8hT-G"
      }
    },
    {
      "cell_type": "code",
      "source": [
        "# searching for the dataset\n",
        "!kaggle datasets list -s car"
      ],
      "metadata": {
        "id": "Pr03ZxEK8rJ5"
      },
      "execution_count": null,
      "outputs": []
    },
    {
      "cell_type": "code",
      "source": [
        "# Creating a dataset directory\n",
        "!mkdir ./datasets\n",
        "!mkdir ./datasets/Cars\n",
        "\n",
        "# download the dataset from Kaggle and unzip it\n",
        "!kaggle datasets download doaaalsenani/usa-cers-dataset -p ./datasets/Cars/\n",
        "!chdir ./datasets/Cars\n",
        "!unzip \"/content/datasets/Cars/usa-cers-dataset.zip\" -d \"/content/datasets/Cars/\"\n",
        "!ls ./datasets/Cars"
      ],
      "metadata": {
        "id": "nN1nOOu--W1g"
      },
      "execution_count": null,
      "outputs": []
    },
    {
      "cell_type": "markdown",
      "source": [
        "**Billionaires API:**"
      ],
      "metadata": {
        "id": "bliILGzzhW1_"
      }
    },
    {
      "cell_type": "code",
      "source": [
        "# searching for the dataset\n",
        "!kaggle datasets list -s forbes"
      ],
      "metadata": {
        "id": "m0eWuwYAgUOV"
      },
      "execution_count": null,
      "outputs": []
    },
    {
      "cell_type": "code",
      "source": [
        "# Creating a dataset directory\n",
        "!mkdir ./datasets\n",
        "!mkdir ./datasets/Billionaires\n",
        "\n",
        "# download the dataset from Kaggle and unzip it\n",
        "!kaggle datasets download roysouravcu/forbes-billionaires-of-2021 -p ./datasets/Billionaires/\n",
        "!chdir ./datasets/Billionaires\n",
        "!unzip \"/content/datasets/Billionaires/forbes-billionaires-of-2021.zip\" -d \"/content/datasets/Billionaires/\"\n",
        "!ls ./datasets/Billionaires"
      ],
      "metadata": {
        "id": "ZQL26rRjhbPL"
      },
      "execution_count": null,
      "outputs": []
    },
    {
      "cell_type": "markdown",
      "source": [
        "**Diamonds API:**"
      ],
      "metadata": {
        "id": "ZX0hLLg_2CgU"
      }
    },
    {
      "cell_type": "code",
      "source": [
        "# Creating a dataset directory\n",
        "!mkdir ./datasets\n",
        "!mkdir ./datasets/Diamonds\n",
        "\n",
        "# download the dataset from Kaggle and unzip it\n",
        "!kaggle datasets download shivam2503/diamonds -p ./datasets/Diamonds/\n",
        "!chdir ./datasets/Diamonds\n",
        "!unzip \"/content/datasets/Diamonds/diamonds.zip\" -d \"/content/datasets/Diamonds/\"\n",
        "!ls ./datasets/Diamonds"
      ],
      "metadata": {
        "colab": {
          "base_uri": "https://localhost:8080/"
        },
        "id": "OHbAhdAS2NZI",
        "outputId": "1ee51a91-8c69-4593-d307-73653d2ca921"
      },
      "execution_count": 47,
      "outputs": [
        {
          "output_type": "stream",
          "name": "stdout",
          "text": [
            "mkdir: cannot create directory ‘./datasets’: File exists\n",
            "mkdir: cannot create directory ‘./datasets/Diamonds’: File exists\n",
            "diamonds.zip: Skipping, found more recently modified local copy (use --force to force download)\n",
            "/bin/bash: chdir: command not found\n",
            "Archive:  /content/datasets/Diamonds/diamonds.zip\n",
            "replace /content/datasets/Diamonds/diamonds.csv? [y]es, [n]o, [A]ll, [N]one, [r]ename: N\n",
            "diamonds.csv  diamonds.zip\n"
          ]
        }
      ]
    },
    {
      "cell_type": "markdown",
      "source": [
        ""
      ],
      "metadata": {
        "id": "WUq-U9kDhWWn"
      }
    },
    {
      "cell_type": "markdown",
      "source": [
        "## Question 1: Part 1"
      ],
      "metadata": {
        "id": "Z1yASFXM25ao"
      }
    },
    {
      "cell_type": "code",
      "source": [
        "df = pd.read_csv(\"/content/datasets/Diamonds/diamonds.csv\")\n",
        "df"
      ],
      "metadata": {
        "colab": {
          "base_uri": "https://localhost:8080/",
          "height": 423
        },
        "id": "IU8bsr8829nm",
        "outputId": "13f08738-74a8-4ca3-ee1f-6dc131a6bf30"
      },
      "execution_count": 104,
      "outputs": [
        {
          "output_type": "execute_result",
          "data": {
            "text/html": [
              "<div>\n",
              "<style scoped>\n",
              "    .dataframe tbody tr th:only-of-type {\n",
              "        vertical-align: middle;\n",
              "    }\n",
              "\n",
              "    .dataframe tbody tr th {\n",
              "        vertical-align: top;\n",
              "    }\n",
              "\n",
              "    .dataframe thead th {\n",
              "        text-align: right;\n",
              "    }\n",
              "</style>\n",
              "<table border=\"1\" class=\"dataframe\">\n",
              "  <thead>\n",
              "    <tr style=\"text-align: right;\">\n",
              "      <th></th>\n",
              "      <th>Unnamed: 0</th>\n",
              "      <th>carat</th>\n",
              "      <th>cut</th>\n",
              "      <th>color</th>\n",
              "      <th>clarity</th>\n",
              "      <th>depth</th>\n",
              "      <th>table</th>\n",
              "      <th>price</th>\n",
              "      <th>x</th>\n",
              "      <th>y</th>\n",
              "      <th>z</th>\n",
              "    </tr>\n",
              "  </thead>\n",
              "  <tbody>\n",
              "    <tr>\n",
              "      <th>0</th>\n",
              "      <td>1</td>\n",
              "      <td>0.23</td>\n",
              "      <td>Ideal</td>\n",
              "      <td>E</td>\n",
              "      <td>SI2</td>\n",
              "      <td>61.5</td>\n",
              "      <td>55.0</td>\n",
              "      <td>326</td>\n",
              "      <td>3.95</td>\n",
              "      <td>3.98</td>\n",
              "      <td>2.43</td>\n",
              "    </tr>\n",
              "    <tr>\n",
              "      <th>1</th>\n",
              "      <td>2</td>\n",
              "      <td>0.21</td>\n",
              "      <td>Premium</td>\n",
              "      <td>E</td>\n",
              "      <td>SI1</td>\n",
              "      <td>59.8</td>\n",
              "      <td>61.0</td>\n",
              "      <td>326</td>\n",
              "      <td>3.89</td>\n",
              "      <td>3.84</td>\n",
              "      <td>2.31</td>\n",
              "    </tr>\n",
              "    <tr>\n",
              "      <th>2</th>\n",
              "      <td>3</td>\n",
              "      <td>0.23</td>\n",
              "      <td>Good</td>\n",
              "      <td>E</td>\n",
              "      <td>VS1</td>\n",
              "      <td>56.9</td>\n",
              "      <td>65.0</td>\n",
              "      <td>327</td>\n",
              "      <td>4.05</td>\n",
              "      <td>4.07</td>\n",
              "      <td>2.31</td>\n",
              "    </tr>\n",
              "    <tr>\n",
              "      <th>3</th>\n",
              "      <td>4</td>\n",
              "      <td>0.29</td>\n",
              "      <td>Premium</td>\n",
              "      <td>I</td>\n",
              "      <td>VS2</td>\n",
              "      <td>62.4</td>\n",
              "      <td>58.0</td>\n",
              "      <td>334</td>\n",
              "      <td>4.20</td>\n",
              "      <td>4.23</td>\n",
              "      <td>2.63</td>\n",
              "    </tr>\n",
              "    <tr>\n",
              "      <th>4</th>\n",
              "      <td>5</td>\n",
              "      <td>0.31</td>\n",
              "      <td>Good</td>\n",
              "      <td>J</td>\n",
              "      <td>SI2</td>\n",
              "      <td>63.3</td>\n",
              "      <td>58.0</td>\n",
              "      <td>335</td>\n",
              "      <td>4.34</td>\n",
              "      <td>4.35</td>\n",
              "      <td>2.75</td>\n",
              "    </tr>\n",
              "    <tr>\n",
              "      <th>...</th>\n",
              "      <td>...</td>\n",
              "      <td>...</td>\n",
              "      <td>...</td>\n",
              "      <td>...</td>\n",
              "      <td>...</td>\n",
              "      <td>...</td>\n",
              "      <td>...</td>\n",
              "      <td>...</td>\n",
              "      <td>...</td>\n",
              "      <td>...</td>\n",
              "      <td>...</td>\n",
              "    </tr>\n",
              "    <tr>\n",
              "      <th>53935</th>\n",
              "      <td>53936</td>\n",
              "      <td>0.72</td>\n",
              "      <td>Ideal</td>\n",
              "      <td>D</td>\n",
              "      <td>SI1</td>\n",
              "      <td>60.8</td>\n",
              "      <td>57.0</td>\n",
              "      <td>2757</td>\n",
              "      <td>5.75</td>\n",
              "      <td>5.76</td>\n",
              "      <td>3.50</td>\n",
              "    </tr>\n",
              "    <tr>\n",
              "      <th>53936</th>\n",
              "      <td>53937</td>\n",
              "      <td>0.72</td>\n",
              "      <td>Good</td>\n",
              "      <td>D</td>\n",
              "      <td>SI1</td>\n",
              "      <td>63.1</td>\n",
              "      <td>55.0</td>\n",
              "      <td>2757</td>\n",
              "      <td>5.69</td>\n",
              "      <td>5.75</td>\n",
              "      <td>3.61</td>\n",
              "    </tr>\n",
              "    <tr>\n",
              "      <th>53937</th>\n",
              "      <td>53938</td>\n",
              "      <td>0.70</td>\n",
              "      <td>Very Good</td>\n",
              "      <td>D</td>\n",
              "      <td>SI1</td>\n",
              "      <td>62.8</td>\n",
              "      <td>60.0</td>\n",
              "      <td>2757</td>\n",
              "      <td>5.66</td>\n",
              "      <td>5.68</td>\n",
              "      <td>3.56</td>\n",
              "    </tr>\n",
              "    <tr>\n",
              "      <th>53938</th>\n",
              "      <td>53939</td>\n",
              "      <td>0.86</td>\n",
              "      <td>Premium</td>\n",
              "      <td>H</td>\n",
              "      <td>SI2</td>\n",
              "      <td>61.0</td>\n",
              "      <td>58.0</td>\n",
              "      <td>2757</td>\n",
              "      <td>6.15</td>\n",
              "      <td>6.12</td>\n",
              "      <td>3.74</td>\n",
              "    </tr>\n",
              "    <tr>\n",
              "      <th>53939</th>\n",
              "      <td>53940</td>\n",
              "      <td>0.75</td>\n",
              "      <td>Ideal</td>\n",
              "      <td>D</td>\n",
              "      <td>SI2</td>\n",
              "      <td>62.2</td>\n",
              "      <td>55.0</td>\n",
              "      <td>2757</td>\n",
              "      <td>5.83</td>\n",
              "      <td>5.87</td>\n",
              "      <td>3.64</td>\n",
              "    </tr>\n",
              "  </tbody>\n",
              "</table>\n",
              "<p>53940 rows × 11 columns</p>\n",
              "</div>"
            ],
            "text/plain": [
              "       Unnamed: 0  carat        cut color  ... price     x     y     z\n",
              "0               1   0.23      Ideal     E  ...   326  3.95  3.98  2.43\n",
              "1               2   0.21    Premium     E  ...   326  3.89  3.84  2.31\n",
              "2               3   0.23       Good     E  ...   327  4.05  4.07  2.31\n",
              "3               4   0.29    Premium     I  ...   334  4.20  4.23  2.63\n",
              "4               5   0.31       Good     J  ...   335  4.34  4.35  2.75\n",
              "...           ...    ...        ...   ...  ...   ...   ...   ...   ...\n",
              "53935       53936   0.72      Ideal     D  ...  2757  5.75  5.76  3.50\n",
              "53936       53937   0.72       Good     D  ...  2757  5.69  5.75  3.61\n",
              "53937       53938   0.70  Very Good     D  ...  2757  5.66  5.68  3.56\n",
              "53938       53939   0.86    Premium     H  ...  2757  6.15  6.12  3.74\n",
              "53939       53940   0.75      Ideal     D  ...  2757  5.83  5.87  3.64\n",
              "\n",
              "[53940 rows x 11 columns]"
            ]
          },
          "metadata": {},
          "execution_count": 104
        }
      ]
    },
    {
      "cell_type": "code",
      "metadata": {
        "colab": {
          "base_uri": "https://localhost:8080/"
        },
        "id": "a2hlehfdC0Qy",
        "outputId": "1dedd175-6116-4fec-931b-7c2722a19651"
      },
      "source": [
        "from scipy.stats import pearsonr\n",
        "cols = [\"carat\", \"depth\"]\n",
        "df1 = df[cols]\n",
        "corr, _ = pearsonr(df1[\"carat\"] , df['price'])\n",
        "print('Pearsons correlation for carat: %.3f' % corr)\n",
        "corr, _ = pearsonr(df1[\"depth\"] , df['price'])\n",
        "print('Pearsons correlation for depth: %.3f' % corr)"
      ],
      "execution_count": 105,
      "outputs": [
        {
          "output_type": "stream",
          "name": "stdout",
          "text": [
            "Pearsons correlation for carat: 0.922\n",
            "Pearsons correlation for depth: -0.011\n"
          ]
        }
      ]
    },
    {
      "cell_type": "markdown",
      "source": [
        "## Question 1: Part 2"
      ],
      "metadata": {
        "id": "OJGdD9wu3TYK"
      }
    },
    {
      "cell_type": "code",
      "metadata": {
        "colab": {
          "base_uri": "https://localhost:8080/",
          "height": 206
        },
        "id": "1vpbIxFCEReB",
        "outputId": "19385bdb-1d7a-4d0a-abc9-dfc5f11e0415"
      },
      "source": [
        "from scipy.stats import pearsonr\n",
        "cols = [\"carat\",\"price\" ,\"x\", \"y\", \"z\"]\n",
        "df1 = df[cols]\n",
        "corr = df1.corr()\n",
        "corr\n"
      ],
      "execution_count": 106,
      "outputs": [
        {
          "output_type": "execute_result",
          "data": {
            "text/html": [
              "<div>\n",
              "<style scoped>\n",
              "    .dataframe tbody tr th:only-of-type {\n",
              "        vertical-align: middle;\n",
              "    }\n",
              "\n",
              "    .dataframe tbody tr th {\n",
              "        vertical-align: top;\n",
              "    }\n",
              "\n",
              "    .dataframe thead th {\n",
              "        text-align: right;\n",
              "    }\n",
              "</style>\n",
              "<table border=\"1\" class=\"dataframe\">\n",
              "  <thead>\n",
              "    <tr style=\"text-align: right;\">\n",
              "      <th></th>\n",
              "      <th>carat</th>\n",
              "      <th>price</th>\n",
              "      <th>x</th>\n",
              "      <th>y</th>\n",
              "      <th>z</th>\n",
              "    </tr>\n",
              "  </thead>\n",
              "  <tbody>\n",
              "    <tr>\n",
              "      <th>carat</th>\n",
              "      <td>1.000000</td>\n",
              "      <td>0.921591</td>\n",
              "      <td>0.975094</td>\n",
              "      <td>0.951722</td>\n",
              "      <td>0.953387</td>\n",
              "    </tr>\n",
              "    <tr>\n",
              "      <th>price</th>\n",
              "      <td>0.921591</td>\n",
              "      <td>1.000000</td>\n",
              "      <td>0.884435</td>\n",
              "      <td>0.865421</td>\n",
              "      <td>0.861249</td>\n",
              "    </tr>\n",
              "    <tr>\n",
              "      <th>x</th>\n",
              "      <td>0.975094</td>\n",
              "      <td>0.884435</td>\n",
              "      <td>1.000000</td>\n",
              "      <td>0.974701</td>\n",
              "      <td>0.970772</td>\n",
              "    </tr>\n",
              "    <tr>\n",
              "      <th>y</th>\n",
              "      <td>0.951722</td>\n",
              "      <td>0.865421</td>\n",
              "      <td>0.974701</td>\n",
              "      <td>1.000000</td>\n",
              "      <td>0.952006</td>\n",
              "    </tr>\n",
              "    <tr>\n",
              "      <th>z</th>\n",
              "      <td>0.953387</td>\n",
              "      <td>0.861249</td>\n",
              "      <td>0.970772</td>\n",
              "      <td>0.952006</td>\n",
              "      <td>1.000000</td>\n",
              "    </tr>\n",
              "  </tbody>\n",
              "</table>\n",
              "</div>"
            ],
            "text/plain": [
              "          carat     price         x         y         z\n",
              "carat  1.000000  0.921591  0.975094  0.951722  0.953387\n",
              "price  0.921591  1.000000  0.884435  0.865421  0.861249\n",
              "x      0.975094  0.884435  1.000000  0.974701  0.970772\n",
              "y      0.951722  0.865421  0.974701  1.000000  0.952006\n",
              "z      0.953387  0.861249  0.970772  0.952006  1.000000"
            ]
          },
          "metadata": {},
          "execution_count": 106
        }
      ]
    },
    {
      "cell_type": "code",
      "metadata": {
        "colab": {
          "base_uri": "https://localhost:8080/",
          "height": 286
        },
        "id": "eVeHqNpZV-8-",
        "outputId": "fbe78d88-03f6-41af-968d-e030fbacefa9"
      },
      "source": [
        "import seaborn as sns\n",
        "sns.heatmap(corr, \n",
        "        xticklabels=corr.columns,\n",
        "        yticklabels=corr.columns,\n",
        "            annot= True)"
      ],
      "execution_count": 107,
      "outputs": [
        {
          "output_type": "execute_result",
          "data": {
            "text/plain": [
              "<matplotlib.axes._subplots.AxesSubplot at 0x7f89decfd590>"
            ]
          },
          "metadata": {},
          "execution_count": 107
        },
        {
          "output_type": "display_data",
          "data": {
            "image/png": "[encoded data removed]",
            "text/plain": [
              "<Figure size 432x288 with 2 Axes>"
            ]
          },
          "metadata": {
            "needs_background": "light"
          }
        }
      ]
    },
    {
      "cell_type": "markdown",
      "source": [
        "## Question 1: Part 3"
      ],
      "metadata": {
        "id": "I8Jx9Oc53yeP"
      }
    },
    {
      "cell_type": "code",
      "metadata": {
        "colab": {
          "base_uri": "https://localhost:8080/"
        },
        "id": "6VInaEaqWB8H",
        "outputId": "a2fad5f1-6e20-447d-d078-d3d7cd3252ae"
      },
      "source": [
        "myset = set(df['clarity'].values)\n",
        "mylist = list(myset)\n",
        "mylist"
      ],
      "execution_count": 108,
      "outputs": [
        {
          "output_type": "execute_result",
          "data": {
            "text/plain": [
              "['SI1', 'VVS2', 'VS1', 'I1', 'SI2', 'VVS1', 'IF', 'VS2']"
            ]
          },
          "metadata": {},
          "execution_count": 108
        }
      ]
    },
    {
      "cell_type": "code",
      "metadata": {
        "id": "Vwwc2fhNqynK"
      },
      "source": [
        "df1 = df[df['clarity'] == mylist[0]]\n",
        "df2 = df[df['clarity'] == mylist[1]]\n",
        "df3 = df[df['clarity'] == mylist[2]]\n",
        "df4 = df[df['clarity'] == mylist[3]]\n",
        "df5 = df[df['clarity'] == mylist[4]]\n",
        "df6 = df[df['clarity'] == mylist[5]]\n",
        "df7 = df[df['clarity'] == mylist[6]]\n",
        "df8 = df[df['clarity'] == mylist[7]]"
      ],
      "execution_count": 109,
      "outputs": []
    },
    {
      "cell_type": "code",
      "metadata": {
        "colab": {
          "base_uri": "https://localhost:8080/"
        },
        "id": "ueSr1D09uRz-",
        "outputId": "888c22d4-07fb-46d1-eb22-04f665daf2a5"
      },
      "source": [
        "from sklearn.linear_model import LinearRegression\n",
        "linreg = LinearRegression()\n",
        "sqrt_list_of_list1 = [[i] for i in df1['carat'].values] \n",
        "linreg.fit(sqrt_list_of_list1, df1['price'].values)\n",
        "print(\"coef: \",linreg.coef_)\n",
        "print(\"intercept: \" ,linreg.intercept_)"
      ],
      "execution_count": 110,
      "outputs": [
        {
          "output_type": "stream",
          "name": "stdout",
          "text": [
            "coef:  [8090.3475054]\n",
            "intercept:  -2884.695432346119\n"
          ]
        }
      ]
    },
    {
      "cell_type": "code",
      "metadata": {
        "colab": {
          "base_uri": "https://localhost:8080/"
        },
        "id": "UsDfEasFu0G1",
        "outputId": "a75d5dca-05f6-4634-add4-d0575c78e0ff"
      },
      "source": [
        "sqrt_list_of_list2 = [[i] for i in df2['carat'].values] \n",
        "linreg.fit(sqrt_list_of_list2, df2['price'].values)\n",
        "print(\"coef: \",linreg.coef_)\n",
        "print(\"intercept: \" ,linreg.intercept_)"
      ],
      "execution_count": 111,
      "outputs": [
        {
          "output_type": "stream",
          "name": "stdout",
          "text": [
            "coef:  [10077.18805124]\n",
            "intercept:  -2724.3039286292483\n"
          ]
        }
      ]
    },
    {
      "cell_type": "code",
      "metadata": {
        "colab": {
          "base_uri": "https://localhost:8080/"
        },
        "id": "Gplxkwglu6lO",
        "outputId": "d2cbd76a-040b-4f68-a8b8-facedb09653e"
      },
      "source": [
        "sqrt_list_of_list3 = [[i] for i in df3['carat'].values] \n",
        "linreg.fit(sqrt_list_of_list3, df3['price'].values)\n",
        "print(\"coef: \",linreg.coef_)\n",
        "print(\"intercept: \" ,linreg.intercept_)"
      ],
      "execution_count": 112,
      "outputs": [
        {
          "output_type": "stream",
          "name": "stdout",
          "text": [
            "coef:  [9000.72595443]\n",
            "intercept:  -2705.4966758167493\n"
          ]
        }
      ]
    },
    {
      "cell_type": "code",
      "metadata": {
        "colab": {
          "base_uri": "https://localhost:8080/"
        },
        "id": "E3RUw_vyu-oZ",
        "outputId": "e99ab417-e4de-4698-edf9-ffbc119d3074"
      },
      "source": [
        "sqrt_list_of_list4 = [[i] for i in df4['carat'].values] \n",
        "linreg.fit(sqrt_list_of_list4, df4['price'].values)\n",
        "print(\"coef: \",linreg.coef_)\n",
        "print(\"intercept: \" ,linreg.intercept_)"
      ],
      "execution_count": 57,
      "outputs": [
        {
          "output_type": "stream",
          "name": "stdout",
          "text": [
            "coef:  [4209.79340046]\n",
            "intercept:  -1480.5583747037222\n"
          ]
        }
      ]
    },
    {
      "cell_type": "code",
      "metadata": {
        "colab": {
          "base_uri": "https://localhost:8080/"
        },
        "id": "ITFK3tYBvBqn",
        "outputId": "324e8f1b-0227-4725-8ebf-431acf055da6"
      },
      "source": [
        "sqrt_list_of_list5 = [[i] for i in df5['carat'].values] \n",
        "linreg.fit(sqrt_list_of_list5, df5['price'].values)\n",
        "print(\"coef: \",linreg.coef_)\n",
        "print(\"intercept: \" ,linreg.intercept_)"
      ],
      "execution_count": 58,
      "outputs": [
        {
          "output_type": "stream",
          "name": "stdout",
          "text": [
            "coef:  [7870.25544007]\n",
            "intercept:  -3418.3400994849208\n"
          ]
        }
      ]
    },
    {
      "cell_type": "code",
      "metadata": {
        "colab": {
          "base_uri": "https://localhost:8080/"
        },
        "id": "BNJibQmlvD4X",
        "outputId": "835951f4-35d2-458b-a928-1e1b8dee74d2"
      },
      "source": [
        "sqrt_list_of_list6 = [[i] for i in df6['carat'].values] \n",
        "linreg.fit(sqrt_list_of_list6, df6['price'].values)\n",
        "print(\"coef: \",linreg.coef_)\n",
        "print(\"intercept: \" ,linreg.intercept_)"
      ],
      "execution_count": 59,
      "outputs": [
        {
          "output_type": "stream",
          "name": "stdout",
          "text": [
            "coef:  [10469.25026504]\n",
            "intercept:  -2746.283873483337\n"
          ]
        }
      ]
    },
    {
      "cell_type": "code",
      "metadata": {
        "colab": {
          "base_uri": "https://localhost:8080/"
        },
        "id": "iVhJuy-8vGM_",
        "outputId": "73e6b19b-2fd9-4621-c5db-c0447d0a39e9"
      },
      "source": [
        "sqrt_list_of_list7 = [[i] for i in df7['carat'].values] \n",
        "linreg.fit(sqrt_list_of_list7, df7['price'].values)\n",
        "print(\"coef: \",linreg.coef_)\n",
        "print(\"intercept: \" ,linreg.intercept_)"
      ],
      "execution_count": 60,
      "outputs": [
        {
          "output_type": "stream",
          "name": "stdout",
          "text": [
            "coef:  [11625.44062662]\n",
            "intercept:  -3007.4372354041852\n"
          ]
        }
      ]
    },
    {
      "cell_type": "code",
      "metadata": {
        "colab": {
          "base_uri": "https://localhost:8080/"
        },
        "id": "Qg3qWp3gvKXO",
        "outputId": "e9b125f9-58c9-4a70-9f39-fe8eeb4b30bb"
      },
      "source": [
        "sqrt_list_of_list8 = [[i] for i in df8['carat'].values] \n",
        "linreg.fit(sqrt_list_of_list8, df8['price'].values)\n",
        "print(\"coef: \",linreg.coef_)\n",
        "print(\"intercept: \" ,linreg.intercept_)"
      ],
      "execution_count": 61,
      "outputs": [
        {
          "output_type": "stream",
          "name": "stdout",
          "text": [
            "coef:  [8626.15697327]\n",
            "intercept:  -2664.8301522581\n"
          ]
        }
      ]
    },
    {
      "cell_type": "markdown",
      "source": [
        "## Question 1: Part 4"
      ],
      "metadata": {
        "id": "69lV8ewX4LcU"
      }
    },
    {
      "cell_type": "code",
      "metadata": {
        "colab": {
          "base_uri": "https://localhost:8080/"
        },
        "id": "IkwqlVNMv5gc",
        "outputId": "ef9d8ff7-7055-4c36-c0ef-dfc82fc41040"
      },
      "source": [
        "myset = set(df['cut'].values)\n",
        "mylist = list(myset)\n",
        "mylist"
      ],
      "execution_count": 113,
      "outputs": [
        {
          "output_type": "execute_result",
          "data": {
            "text/plain": [
              "['Premium', 'Fair', 'Very Good', 'Ideal', 'Good']"
            ]
          },
          "metadata": {},
          "execution_count": 113
        }
      ]
    },
    {
      "cell_type": "code",
      "metadata": {
        "id": "cyoGXTxX0d90"
      },
      "source": [
        "colors = {\"Ideal\": \"green\", \"Good\": \"orange\", \"Fair\": \"blue\", \"Very Good\": \"pink\", \"Premium\": \"yellow\" }"
      ],
      "execution_count": 114,
      "outputs": []
    },
    {
      "cell_type": "code",
      "metadata": {
        "id": "7b-R8_kU0_J4"
      },
      "source": [
        "linear_func1 = lambda x: 10469.25026504*x + -2746.283873483337\n",
        "linear_func2 = lambda x: 11625.44062662*x + -3007.4372354041852\n",
        "linear_func3 = lambda x: 9000.72595443*x + -2705.4966758167493\n",
        "linear_func4 = lambda x: 4209.79340046*x + -1480.5583747037222\n",
        "linear_func5 = lambda x: 10077.18805124*x + -2724.3039286292483\n",
        "linear_func6 = lambda x: 8090.3475054*x + -2884.695432346119\n",
        "linear_func7 = lambda x: 7870.25544007*x + -3418.3400994849208\n",
        "linear_func8 = lambda x: 8626.15697327*x + -2664.8301522581"
      ],
      "execution_count": 115,
      "outputs": []
    },
    {
      "cell_type": "code",
      "metadata": {
        "colab": {
          "base_uri": "https://localhost:8080/",
          "height": 265
        },
        "id": "K7MtQFPf7exa",
        "outputId": "7b27b411-8d3c-4424-ff56-28040c53624e"
      },
      "source": [
        "predict_y_values1 = [linear_func1(x) for x in df1['carat']]\n",
        "predict_y_values2 = [linear_func2(x) for x in df2['carat']]\n",
        "predict_y_values3 = [linear_func3(x) for x in df3['carat']]\n",
        "predict_y_values4 = [linear_func4(x) for x in df4['carat']]\n",
        "predict_y_values5 = [linear_func5(x) for x in df5['carat']]\n",
        "predict_y_values6 = [linear_func6(x) for x in df6['carat']]\n",
        "predict_y_values7 = [linear_func7(x) for x in df7['carat']]\n",
        "predict_y_values8 = [linear_func8(x) for x in df8['carat']]\n",
        "\n",
        "\n",
        "plt.plot(df1['carat'],predict_y_values1, color= 'green', label = \"VVS1\")\n",
        "plt.plot(df2['carat'],predict_y_values2, color= 'yellow', label = \"IF\")\n",
        "plt.plot(df3['carat'],predict_y_values3, color= 'pink', label = \"VS1\")\n",
        "plt.plot(df4['carat'],predict_y_values4, color= 'blue', label = \"I1\")\n",
        "plt.plot(df5['carat'],predict_y_values5, color= '#A24693', label = \"VVS2\")\n",
        "plt.plot(df6['carat'],predict_y_values6, color= 'red', label = \"SI1\")\n",
        "plt.plot(df7['carat'],predict_y_values7, color= '#0BDAFA', label = \"SI2\")\n",
        "plt.plot(df8['carat'],predict_y_values8, color= 'orange', label = \"VS2\")\n",
        "plt.legend();"
      ],
      "execution_count": 117,
      "outputs": [
        {
          "output_type": "display_data",
          "data": {
            "image/png": "[encoded data removed]",
            "text/plain": [
              "<Figure size 432x288 with 1 Axes>"
            ]
          },
          "metadata": {
            "needs_background": "light"
          }
        }
      ]
    },
    {
      "cell_type": "markdown",
      "source": [
        "## Question 1: Part 5"
      ],
      "metadata": {
        "id": "5TSWeL8o5ML2"
      }
    },
    {
      "cell_type": "code",
      "metadata": {
        "id": "mbwSV7ou-Rot"
      },
      "source": [
        "from sklearn.model_selection import train_test_split\n",
        "train_df, test_df = train_test_split(df, test_size=0.3)"
      ],
      "execution_count": 66,
      "outputs": []
    },
    {
      "cell_type": "code",
      "metadata": {
        "colab": {
          "base_uri": "https://localhost:8080/"
        },
        "id": "7Z3o_YJx9Y1b",
        "outputId": "b6e4997b-210b-40af-fa0a-f8a195b162f3"
      },
      "source": [
        "from sklearn.linear_model import LinearRegression\n",
        "mlinreg = LinearRegression()\n",
        "\n",
        "data_values_list = []\n",
        "data_points_list = [row.values for index, row in  train_df[['carat', 'depth', 'table', 'price', 'x', 'y', 'z']].iterrows()]\n",
        "mlinreg.fit(data_points_list, train_df['price'].values)\n",
        "print(\"coef: \" , mlinreg.coef_)\n",
        "print(\"intercept: \", mlinreg.intercept_)"
      ],
      "execution_count": 95,
      "outputs": [
        {
          "output_type": "stream",
          "name": "stdout",
          "text": [
            "coef:  [-3.26343163e-12 -1.53432822e-13 -1.64495154e-15  1.00000000e+00\n",
            "  6.70801305e-15 -1.17552994e-14  1.38325224e-15]\n",
            "intercept:  1.0459189070388675e-11\n"
          ]
        }
      ]
    },
    {
      "cell_type": "code",
      "metadata": {
        "colab": {
          "base_uri": "https://localhost:8080/"
        },
        "id": "hNuuKIqZ_Lhb",
        "outputId": "33192f10-7832-4729-e71a-35bbf009d6b7"
      },
      "source": [
        "from sklearn import metrics\n",
        "y_test = test_df['price'].values\n",
        "y_pred = mlinreg.predict([v for v in test_df[['carat', 'depth', 'table', 'price', 'x', 'y', 'z']].values])\n",
        "print(f\"Mae value is: {metrics.mean_absolute_error(y_test,y_pred)}\")  #MAE"
      ],
      "execution_count": 96,
      "outputs": [
        {
          "output_type": "stream",
          "name": "stdout",
          "text": [
            "Mae value is: 5.119385325990345e-13\n"
          ]
        }
      ]
    },
    {
      "cell_type": "code",
      "metadata": {
        "colab": {
          "base_uri": "https://localhost:8080/"
        },
        "id": "cLKdX3YhA-z8",
        "outputId": "8600af65-9e5e-40b3-fb15-6974bf0cdfe7"
      },
      "source": [
        "from sklearn.metrics import mean_squared_error\n",
        "from math import sqrt\n",
        "\n",
        "rms = sqrt(mean_squared_error(y_test,y_pred))\n",
        "print(f\"Rmse value: {rms}\") #RMSE"
      ],
      "execution_count": 70,
      "outputs": [
        {
          "output_type": "stream",
          "name": "stdout",
          "text": [
            "Rmse value: 9.422563862926233e-13\n"
          ]
        }
      ]
    },
    {
      "cell_type": "markdown",
      "source": [
        "## Question 2: Part 1"
      ],
      "metadata": {
        "id": "h0_xwxPhBpsS"
      }
    },
    {
      "cell_type": "code",
      "source": [
        "df = pd.read_csv('./datasets/Cars/USA_cars_datasets.csv')\n",
        "df"
      ],
      "metadata": {
        "colab": {
          "base_uri": "https://localhost:8080/",
          "height": 423
        },
        "id": "i5wJCIQEB3de",
        "outputId": "b46421e8-18f7-4fcc-9890-d06139a6a4b0"
      },
      "execution_count": 71,
      "outputs": [
        {
          "output_type": "execute_result",
          "data": {
            "text/html": [
              "<div>\n",
              "<style scoped>\n",
              "    .dataframe tbody tr th:only-of-type {\n",
              "        vertical-align: middle;\n",
              "    }\n",
              "\n",
              "    .dataframe tbody tr th {\n",
              "        vertical-align: top;\n",
              "    }\n",
              "\n",
              "    .dataframe thead th {\n",
              "        text-align: right;\n",
              "    }\n",
              "</style>\n",
              "<table border=\"1\" class=\"dataframe\">\n",
              "  <thead>\n",
              "    <tr style=\"text-align: right;\">\n",
              "      <th></th>\n",
              "      <th>Unnamed: 0</th>\n",
              "      <th>price</th>\n",
              "      <th>brand</th>\n",
              "      <th>model</th>\n",
              "      <th>year</th>\n",
              "      <th>title_status</th>\n",
              "      <th>mileage</th>\n",
              "      <th>color</th>\n",
              "      <th>vin</th>\n",
              "      <th>lot</th>\n",
              "      <th>state</th>\n",
              "      <th>country</th>\n",
              "      <th>condition</th>\n",
              "    </tr>\n",
              "  </thead>\n",
              "  <tbody>\n",
              "    <tr>\n",
              "      <th>0</th>\n",
              "      <td>0</td>\n",
              "      <td>6300</td>\n",
              "      <td>toyota</td>\n",
              "      <td>cruiser</td>\n",
              "      <td>2008</td>\n",
              "      <td>clean vehicle</td>\n",
              "      <td>274117.0</td>\n",
              "      <td>black</td>\n",
              "      <td>jtezu11f88k007763</td>\n",
              "      <td>159348797</td>\n",
              "      <td>new jersey</td>\n",
              "      <td>usa</td>\n",
              "      <td>10 days left</td>\n",
              "    </tr>\n",
              "    <tr>\n",
              "      <th>1</th>\n",
              "      <td>1</td>\n",
              "      <td>2899</td>\n",
              "      <td>ford</td>\n",
              "      <td>se</td>\n",
              "      <td>2011</td>\n",
              "      <td>clean vehicle</td>\n",
              "      <td>190552.0</td>\n",
              "      <td>silver</td>\n",
              "      <td>2fmdk3gc4bbb02217</td>\n",
              "      <td>166951262</td>\n",
              "      <td>tennessee</td>\n",
              "      <td>usa</td>\n",
              "      <td>6 days left</td>\n",
              "    </tr>\n",
              "    <tr>\n",
              "      <th>2</th>\n",
              "      <td>2</td>\n",
              "      <td>5350</td>\n",
              "      <td>dodge</td>\n",
              "      <td>mpv</td>\n",
              "      <td>2018</td>\n",
              "      <td>clean vehicle</td>\n",
              "      <td>39590.0</td>\n",
              "      <td>silver</td>\n",
              "      <td>3c4pdcgg5jt346413</td>\n",
              "      <td>167655728</td>\n",
              "      <td>georgia</td>\n",
              "      <td>usa</td>\n",
              "      <td>2 days left</td>\n",
              "    </tr>\n",
              "    <tr>\n",
              "      <th>3</th>\n",
              "      <td>3</td>\n",
              "      <td>25000</td>\n",
              "      <td>ford</td>\n",
              "      <td>door</td>\n",
              "      <td>2014</td>\n",
              "      <td>clean vehicle</td>\n",
              "      <td>64146.0</td>\n",
              "      <td>blue</td>\n",
              "      <td>1ftfw1et4efc23745</td>\n",
              "      <td>167753855</td>\n",
              "      <td>virginia</td>\n",
              "      <td>usa</td>\n",
              "      <td>22 hours left</td>\n",
              "    </tr>\n",
              "    <tr>\n",
              "      <th>4</th>\n",
              "      <td>4</td>\n",
              "      <td>27700</td>\n",
              "      <td>chevrolet</td>\n",
              "      <td>1500</td>\n",
              "      <td>2018</td>\n",
              "      <td>clean vehicle</td>\n",
              "      <td>6654.0</td>\n",
              "      <td>red</td>\n",
              "      <td>3gcpcrec2jg473991</td>\n",
              "      <td>167763266</td>\n",
              "      <td>florida</td>\n",
              "      <td>usa</td>\n",
              "      <td>22 hours left</td>\n",
              "    </tr>\n",
              "    <tr>\n",
              "      <th>...</th>\n",
              "      <td>...</td>\n",
              "      <td>...</td>\n",
              "      <td>...</td>\n",
              "      <td>...</td>\n",
              "      <td>...</td>\n",
              "      <td>...</td>\n",
              "      <td>...</td>\n",
              "      <td>...</td>\n",
              "      <td>...</td>\n",
              "      <td>...</td>\n",
              "      <td>...</td>\n",
              "      <td>...</td>\n",
              "      <td>...</td>\n",
              "    </tr>\n",
              "    <tr>\n",
              "      <th>2494</th>\n",
              "      <td>2494</td>\n",
              "      <td>7800</td>\n",
              "      <td>nissan</td>\n",
              "      <td>versa</td>\n",
              "      <td>2019</td>\n",
              "      <td>clean vehicle</td>\n",
              "      <td>23609.0</td>\n",
              "      <td>red</td>\n",
              "      <td>3n1cn7ap9kl880319</td>\n",
              "      <td>167722715</td>\n",
              "      <td>california</td>\n",
              "      <td>usa</td>\n",
              "      <td>1 days left</td>\n",
              "    </tr>\n",
              "    <tr>\n",
              "      <th>2495</th>\n",
              "      <td>2495</td>\n",
              "      <td>9200</td>\n",
              "      <td>nissan</td>\n",
              "      <td>versa</td>\n",
              "      <td>2018</td>\n",
              "      <td>clean vehicle</td>\n",
              "      <td>34553.0</td>\n",
              "      <td>silver</td>\n",
              "      <td>3n1cn7ap5jl884088</td>\n",
              "      <td>167762225</td>\n",
              "      <td>florida</td>\n",
              "      <td>usa</td>\n",
              "      <td>21 hours left</td>\n",
              "    </tr>\n",
              "    <tr>\n",
              "      <th>2496</th>\n",
              "      <td>2496</td>\n",
              "      <td>9200</td>\n",
              "      <td>nissan</td>\n",
              "      <td>versa</td>\n",
              "      <td>2018</td>\n",
              "      <td>clean vehicle</td>\n",
              "      <td>31594.0</td>\n",
              "      <td>silver</td>\n",
              "      <td>3n1cn7ap9jl884191</td>\n",
              "      <td>167762226</td>\n",
              "      <td>florida</td>\n",
              "      <td>usa</td>\n",
              "      <td>21 hours left</td>\n",
              "    </tr>\n",
              "    <tr>\n",
              "      <th>2497</th>\n",
              "      <td>2497</td>\n",
              "      <td>9200</td>\n",
              "      <td>nissan</td>\n",
              "      <td>versa</td>\n",
              "      <td>2018</td>\n",
              "      <td>clean vehicle</td>\n",
              "      <td>32557.0</td>\n",
              "      <td>black</td>\n",
              "      <td>3n1cn7ap3jl883263</td>\n",
              "      <td>167762227</td>\n",
              "      <td>florida</td>\n",
              "      <td>usa</td>\n",
              "      <td>2 days left</td>\n",
              "    </tr>\n",
              "    <tr>\n",
              "      <th>2498</th>\n",
              "      <td>2498</td>\n",
              "      <td>9200</td>\n",
              "      <td>nissan</td>\n",
              "      <td>versa</td>\n",
              "      <td>2018</td>\n",
              "      <td>clean vehicle</td>\n",
              "      <td>31371.0</td>\n",
              "      <td>silver</td>\n",
              "      <td>3n1cn7ap4jl884311</td>\n",
              "      <td>167762228</td>\n",
              "      <td>florida</td>\n",
              "      <td>usa</td>\n",
              "      <td>21 hours left</td>\n",
              "    </tr>\n",
              "  </tbody>\n",
              "</table>\n",
              "<p>2499 rows × 13 columns</p>\n",
              "</div>"
            ],
            "text/plain": [
              "      Unnamed: 0  price      brand  ...       state  country      condition\n",
              "0              0   6300     toyota  ...  new jersey      usa   10 days left\n",
              "1              1   2899       ford  ...   tennessee      usa    6 days left\n",
              "2              2   5350      dodge  ...     georgia      usa    2 days left\n",
              "3              3  25000       ford  ...    virginia      usa  22 hours left\n",
              "4              4  27700  chevrolet  ...     florida      usa  22 hours left\n",
              "...          ...    ...        ...  ...         ...      ...            ...\n",
              "2494        2494   7800     nissan  ...  california      usa    1 days left\n",
              "2495        2495   9200     nissan  ...     florida      usa  21 hours left\n",
              "2496        2496   9200     nissan  ...     florida      usa  21 hours left\n",
              "2497        2497   9200     nissan  ...     florida      usa    2 days left\n",
              "2498        2498   9200     nissan  ...     florida      usa  21 hours left\n",
              "\n",
              "[2499 rows x 13 columns]"
            ]
          },
          "metadata": {},
          "execution_count": 71
        }
      ]
    },
    {
      "cell_type": "code",
      "source": [
        "dodge = df.loc[df['brand']== \"dodge\"]\n",
        "chevrolet = df.loc[df['brand']== \"chevrolet\"]"
      ],
      "metadata": {
        "id": "VX-FYh_8IWKi"
      },
      "execution_count": 72,
      "outputs": []
    },
    {
      "cell_type": "code",
      "source": [
        "train_dodge_df = dodge[:200]\n",
        "test_dodge_df = dodge[1000:2000]\n",
        "\n",
        "from sklearn.linear_model import LinearRegression\n",
        "linreg = LinearRegression()\n",
        "sqrt_list_of_list = [[i] for i in train_dodge_df['mileage'].values] \n",
        "linreg.fit(sqrt_list_of_list, train_dodge_df['price'].values)"
      ],
      "metadata": {
        "colab": {
          "base_uri": "https://localhost:8080/"
        },
        "id": "vIETZkEtFEO8",
        "outputId": "2a34b2c7-e9b4-467c-ca02-18aa892afd4c"
      },
      "execution_count": 124,
      "outputs": [
        {
          "output_type": "execute_result",
          "data": {
            "text/plain": [
              "LinearRegression()"
            ]
          },
          "metadata": {},
          "execution_count": 124
        }
      ]
    },
    {
      "cell_type": "code",
      "source": [
        "linreg.coef_ # coefficent b_0"
      ],
      "metadata": {
        "colab": {
          "base_uri": "https://localhost:8080/"
        },
        "id": "sho1G8agGy7T",
        "outputId": "34c7642f-2794-4f02-bfb6-5b7ae3128f46"
      },
      "execution_count": 74,
      "outputs": [
        {
          "output_type": "execute_result",
          "data": {
            "text/plain": [
              "array([-0.14422114])"
            ]
          },
          "metadata": {},
          "execution_count": 74
        }
      ]
    },
    {
      "cell_type": "code",
      "source": [
        "linreg.intercept_ # b_1"
      ],
      "metadata": {
        "colab": {
          "base_uri": "https://localhost:8080/"
        },
        "id": "wSFnd6WQG0-O",
        "outputId": "26b1cd99-6d77-467b-9f57-e4f2be092c72"
      },
      "execution_count": 75,
      "outputs": [
        {
          "output_type": "execute_result",
          "data": {
            "text/plain": [
              "24088.52376377643"
            ]
          },
          "metadata": {},
          "execution_count": 75
        }
      ]
    },
    {
      "cell_type": "markdown",
      "source": [
        "The linear regression for dodge is represented by: $y = -0.14422114x + 24088.52376377643$"
      ],
      "metadata": {
        "id": "oSTOAs8MG5YP"
      }
    },
    {
      "cell_type": "code",
      "source": [
        "linear_func = lambda x: -0.14422114*x + 24088.52376377643\n",
        "predict_y_values = [linear_func(x) for x in train_dodge_df['mileage']]\n",
        "plt.scatter(train_dodge_df['mileage'], train_dodge_df['price'])\n",
        "plt.xlabel(\"mileage\")\n",
        "plt.ylabel(\"price\")\n",
        "\n",
        "\n",
        "#plot the regression line\n",
        "plt.plot(train_dodge_df['mileage'],predict_y_values, color='red' )"
      ],
      "metadata": {
        "colab": {
          "base_uri": "https://localhost:8080/",
          "height": 298
        },
        "id": "8-LLveqCHAwG",
        "outputId": "45351407-eb57-448a-de82-5dbe94496138"
      },
      "execution_count": 76,
      "outputs": [
        {
          "output_type": "execute_result",
          "data": {
            "text/plain": [
              "[<matplotlib.lines.Line2D at 0x7f89e13bc310>]"
            ]
          },
          "metadata": {},
          "execution_count": 76
        },
        {
          "output_type": "display_data",
          "data": {
            "image/png": "[encoded data removed]",
            "text/plain": [
              "<Figure size 432x288 with 1 Axes>"
            ]
          },
          "metadata": {
            "needs_background": "light"
          }
        }
      ]
    },
    {
      "cell_type": "code",
      "source": [
        "train_chevrolet_df = chevrolet[:200]\n",
        "test_chevrolet_df = chevrolet[1000:2000]\n",
        "\n",
        "from sklearn.linear_model import LinearRegression\n",
        "linreg = LinearRegression()\n",
        "sqrt_list_of_list = [[i] for i in train_chevrolet_df['mileage'].values] \n",
        "linreg.fit(sqrt_list_of_list, train_chevrolet_df['price'].values)"
      ],
      "metadata": {
        "colab": {
          "base_uri": "https://localhost:8080/"
        },
        "id": "IBR2Lij8K3Fq",
        "outputId": "72c0752a-b527-4924-e837-a75815e49e01"
      },
      "execution_count": 123,
      "outputs": [
        {
          "output_type": "execute_result",
          "data": {
            "text/plain": [
              "LinearRegression()"
            ]
          },
          "metadata": {},
          "execution_count": 123
        }
      ]
    },
    {
      "cell_type": "code",
      "source": [
        "linreg.coef_ # coefficent b_0"
      ],
      "metadata": {
        "colab": {
          "base_uri": "https://localhost:8080/"
        },
        "id": "U2OjhPB7LAGE",
        "outputId": "48b248d3-b9d7-4885-e458-dba9ee867307"
      },
      "execution_count": 78,
      "outputs": [
        {
          "output_type": "execute_result",
          "data": {
            "text/plain": [
              "array([-0.10576149])"
            ]
          },
          "metadata": {},
          "execution_count": 78
        }
      ]
    },
    {
      "cell_type": "code",
      "source": [
        "linreg.intercept_ # b_1"
      ],
      "metadata": {
        "colab": {
          "base_uri": "https://localhost:8080/"
        },
        "id": "Ljbdhj4iLBeu",
        "outputId": "3b437fca-909e-48d8-e739-5fe1576c7169"
      },
      "execution_count": 79,
      "outputs": [
        {
          "output_type": "execute_result",
          "data": {
            "text/plain": [
              "25806.944862475648"
            ]
          },
          "metadata": {},
          "execution_count": 79
        }
      ]
    },
    {
      "cell_type": "markdown",
      "source": [
        "The linear regression for chevrolet is represented by: $y = -0.10576149x + 25806.944862475648\n",
        "$"
      ],
      "metadata": {
        "id": "yfHSc1sMLDcK"
      }
    },
    {
      "cell_type": "code",
      "source": [
        "linear_func = lambda x: -0.10576149*x + 25806.944862475648\n",
        "predict_y_values = [linear_func(x) for x in train_chevrolet_df['mileage']]\n",
        "plt.scatter(train_chevrolet_df['mileage'], train_chevrolet_df['price'])\n",
        "plt.xlabel(\"mileage\")\n",
        "plt.ylabel(\"price\")\n",
        "\n",
        "\n",
        "#plot the regression line\n",
        "plt.plot(train_chevrolet_df['mileage'],predict_y_values, color='red' )"
      ],
      "metadata": {
        "colab": {
          "base_uri": "https://localhost:8080/",
          "height": 296
        },
        "id": "jBUzyiMWLJWV",
        "outputId": "3fd7df55-d3f6-4e18-a064-baaa4777962c"
      },
      "execution_count": 80,
      "outputs": [
        {
          "output_type": "execute_result",
          "data": {
            "text/plain": [
              "[<matplotlib.lines.Line2D at 0x7f89e5a7fe90>]"
            ]
          },
          "metadata": {},
          "execution_count": 80
        },
        {
          "output_type": "display_data",
          "data": {
            "image/png": "[encoded data removed]",
            "text/plain": [
              "<Figure size 432x288 with 1 Axes>"
            ]
          },
          "metadata": {
            "needs_background": "light"
          }
        }
      ]
    },
    {
      "cell_type": "markdown",
      "source": [
        "## Question 2: Part 2"
      ],
      "metadata": {
        "id": "oh_esVmaMY3E"
      }
    },
    {
      "cell_type": "code",
      "source": [
        "ford = df.loc[df['brand']== \"ford\"]\n",
        "train_ford_df = ford[:200]\n",
        "test_ford_df = ford[1000:2000]"
      ],
      "metadata": {
        "id": "HKMeKLxjNXZH"
      },
      "execution_count": 81,
      "outputs": []
    },
    {
      "cell_type": "code",
      "source": [
        "mlinreg = LinearRegression()\n",
        "\n",
        "data_values_list = []\n",
        "data_points_list = [row.values for index, row in  train_ford_df[['mileage','year']].iterrows()]\n",
        "mlinreg.fit(data_points_list, train_ford_df['price'].values)"
      ],
      "metadata": {
        "colab": {
          "base_uri": "https://localhost:8080/"
        },
        "id": "FnaXiKqxNJov",
        "outputId": "2f9453e3-3635-4968-f870-f3c403ac902d"
      },
      "execution_count": 82,
      "outputs": [
        {
          "output_type": "execute_result",
          "data": {
            "text/plain": [
              "LinearRegression()"
            ]
          },
          "metadata": {},
          "execution_count": 82
        }
      ]
    },
    {
      "cell_type": "code",
      "source": [
        "coef = mlinreg.coef_ # b_1"
      ],
      "metadata": {
        "id": "xh9FdposOIm6"
      },
      "execution_count": 83,
      "outputs": []
    },
    {
      "cell_type": "code",
      "source": [
        "mlinreg.intercept_ # coefficent b_0"
      ],
      "metadata": {
        "colab": {
          "base_uri": "https://localhost:8080/"
        },
        "id": "EyUtZcdlOVcQ",
        "outputId": "ba3d6840-242e-414b-a3db-d2af05a41a1d"
      },
      "execution_count": 84,
      "outputs": [
        {
          "output_type": "execute_result",
          "data": {
            "text/plain": [
              "-1119521.766872747"
            ]
          },
          "metadata": {},
          "execution_count": 84
        }
      ]
    },
    {
      "cell_type": "markdown",
      "source": [
        "$price = (-4.70622995e-02)*mileage + (5.64303828e+02)*year -1119521.766872747$"
      ],
      "metadata": {
        "id": "mgzy1Z9LO-7N"
      }
    },
    {
      "cell_type": "markdown",
      "source": [
        "## Question 2: Part 3"
      ],
      "metadata": {
        "id": "72XcmX1FPgoc"
      }
    },
    {
      "cell_type": "markdown",
      "source": [
        "**2D Representition of the model:**"
      ],
      "metadata": {
        "id": "i2b77PYse7jG"
      }
    },
    {
      "cell_type": "code",
      "source": [
        "#!pip install plotly\n",
        "import plotly.express as px\n",
        "import pandas as pd"
      ],
      "metadata": {
        "id": "TVMzsySyZiVg"
      },
      "execution_count": 85,
      "outputs": []
    },
    {
      "cell_type": "code",
      "source": [
        "fig = px.scatter(train_ford_df, x=\"year\", y=\"mileage\", color=\"price\")\n",
        "fig.show()"
      ],
      "metadata": {
        "colab": {
          "base_uri": "https://localhost:8080/",
          "height": 542
        },
        "id": "5gehSCr2eQ-i",
        "outputId": "c996461e-48ba-4785-de9b-2b2456727a2e"
      },
      "execution_count": 86,
      "outputs": [
        {
          "output_type": "display_data",
          "data": {
            "text/html": [
              "<html>\n",
              "<head><meta charset=\"utf-8\" /></head>\n",
              "<body>\n",
              "    <div>\n",
              "            <script src=\"https://cdnjs.cloudflare.com/ajax/libs/mathjax/2.7.5/MathJax.js?config=TeX-AMS-MML_SVG\"></script><script type=\"text/javascript\">if (window.MathJax) {MathJax.Hub.Config({SVG: {font: \"STIX-Web\"}});}</script>\n",
              "                <script type=\"text/javascript\">window.PlotlyConfig = {MathJaxConfig: 'local'};</script>\n",
              "        <script src=\"https://cdn.plot.ly/plotly-latest.min.js\"></script>    \n",
              "            <div id=\"776def9b-ab8a-4152-a419-dfd887f72ad7\" class=\"plotly-graph-div\" style=\"height:525px; width:100%;\"></div>\n",
              "            <script type=\"text/javascript\">\n",
              "                \n",
              "                    window.PLOTLYENV=window.PLOTLYENV || {};\n",
              "                    \n",
              "                if (document.getElementById(\"776def9b-ab8a-4152-a419-dfd887f72ad7\")) {\n",
              "                    Plotly.newPlot(\n",
              "                        '776def9b-ab8a-4152-a419-dfd887f72ad7',\n",
              "                        [{\"hoverlabel\": {\"namelength\": 0}, \"hovertemplate\": \"year=%{x}<br>mileage=%{y}<br>price=%{marker.color}\", \"legendgroup\": \"\", \"marker\": {\"color\": [2899, 25000, 5250, 20700, 5210, 38100, 6180, 20800, 4190, 13000, 5330, 13000, 7320, 7000, 6330, 55000, 54000, 7760, 6650, 4340, 4430, 4140, 4640, 24000, 4140, 11500, 9110, 9300, 15110, 34000, 5990, 13600, 10780, 13800, 7070, 8700, 8530, 7000, 17000, 6980, 9200, 7070, 28500, 23500, 10940, 32100, 6830, 6700, 19900, 22300, 22800, 18500, 28800, 21000, 25800, 14600, 15110, 7900, 15290, 26500, 7320, 4140, 4160, 15840, 20500, 4200, 17400, 0, 15700, 3740, 3160, 12990, 4410, 7420, 13500, 3540, 17000, 4130, 15700, 4130, 4530, 4100, 4080, 5700, 5000, 1700, 3650, 3450, 6810, 2900, 4450, 5800, 26500, 8600, 8000, 7040, 4700, 4880, 13270, 12800, 9280, 900, 7560, 19500, 8020, 10300, 10480, 10300, 7410, 10300, 7570, 12560, 11760, 0, 7340, 725, 7400, 720, 22800, 2500, 0, 22809, 0, 0, 23702, 0, 0, 24800, 0, 0, 27003, 0, 350, 3920, 23100, 8850, 18712, 0, 0, 3440, 50412, 25, 950, 3790, 40514, 0, 0, 3830, 43402, 10630, 43009, 4600, 3830, 53500, 25, 25, 6490, 51502, 250, 25, 9210, 58500, 125, 33001, 10000, 0, 4480, 31003, 75, 27102, 23911, 25, 26012, 75, 25503, 0, 25001, 0, 29502, 0, 3870, 24811, 75, 26400, 27705, 28714, 27502, 29314, 27002, 28214, 29900, 27202, 27705, 29900, 27705, 25511, 29900, 27502, 27402, 26602], \"coloraxis\": \"coloraxis\", \"symbol\": \"circle\"}, \"mode\": \"markers\", \"name\": \"\", \"showlegend\": false, \"type\": \"scatter\", \"x\": [2011, 2014, 2017, 2013, 2017, 2013, 2017, 2013, 2017, 2008, 2017, 2003, 2017, 2003, 2017, 2017, 2017, 2017, 2017, 2017, 2017, 2017, 2017, 2016, 2017, 2016, 2017, 2017, 2017, 2015, 2017, 2018, 2017, 2018, 2017, 2018, 2017, 2017, 2018, 2017, 2017, 2017, 2017, 2017, 2017, 2017, 2017, 2014, 2016, 2016, 2016, 2016, 2016, 2016, 2014, 2014, 2017, 2014, 2017, 2015, 2017, 2017, 2017, 2017, 2014, 2017, 2011, 2017, 2011, 2017, 2017, 2017, 2017, 2017, 2016, 2017, 2016, 2017, 2015, 2017, 2017, 2017, 2017, 2014, 2017, 2014, 2016, 2012, 2016, 2011, 2016, 2011, 2008, 2016, 2008, 2016, 2005, 2016, 2016, 2012, 2016, 2003, 2016, 2011, 2016, 2019, 2016, 2019, 2016, 2019, 2016, 2019, 2017, 2000, 2019, 2017, 2019, 2006, 2017, 2017, 2003, 2017, 1998, 2013, 2017, 1994, 1997, 2017, 1996, 2006, 2017, 2002, 2004, 2015, 2017, 2015, 2017, 2009, 2009, 2015, 2017, 1994, 2001, 2015, 2017, 1997, 1998, 2015, 2017, 2015, 2017, 2006, 2015, 2017, 2010, 1998, 2015, 2017, 2010, 1984, 2015, 2019, 2014, 2017, 2017, 2004, 2011, 2017, 2001, 2017, 2017, 2010, 2017, 2014, 2017, 1996, 2017, 2010, 2017, 2008, 2010, 2017, 2007, 2017, 2019, 2019, 2019, 2019, 2019, 2019, 2019, 2019, 2019, 2019, 2019, 2019, 2019, 2019, 2019, 2019], \"xaxis\": \"x\", \"y\": [190552.0, 64146.0, 63418.0, 100757.0, 35714.0, 54380.0, 46010.0, 105510.0, 44174.0, 93698.0, 37792.0, 58817.0, 32366.0, 176567.0, 38123.0, 15273.0, 26241.0, 44794.0, 29942.0, 25602.0, 31792.0, 36732.0, 36139.0, 84413.0, 17617.0, 36855.0, 110316.0, 120353.0, 39333.0, 42930.0, 44929.0, 16971.0, 40455.0, 23164.0, 45191.0, 21405.0, 42104.0, 29882.0, 34819.0, 29168.0, 21770.0, 30318.0, 48086.0, 57611.0, 84916.0, 24521.0, 35888.0, 204155.0, 86826.0, 62774.0, 72885.0, 33514.0, 77638.0, 24157.0, 47055.0, 75785.0, 42289.0, 79422.0, 66582.0, 61436.0, 55618.0, 40747.0, 37176.0, 72445.0, 123355.0, 60219.0, 135077.0, 76858.0, 309564.0, 90618.0, 31563.0, 126523.0, 209915.0, 55854.0, 45757.0, 112893.0, 126802.0, 34061.0, 70251.0, 42426.0, 41455.0, 38815.0, 61027.0, 178703.0, 37321.0, 112789.0, 68142.0, 90711.0, 66781.0, 190994.0, 32486.0, 195908.0, 62015.0, 73321.0, 132379.0, 33291.0, 225236.0, 36876.0, 84035.0, 131101.0, 101380.0, 142027.0, 111476.0, 76897.0, 31944.0, 18937.0, 57289.0, 19956.0, 21034.0, 22881.0, 37252.0, 15958.0, 30553.0, 124969.0, 15854.0, 67279.0, 16482.0, 26914.0, 67217.0, 78698.0, 246065.0, 50732.0, 186855.0, 94004.0, 49024.0, 0.0, 203297.0, 46955.0, 296860.0, 203158.0, 57186.0, 214800.0, 236980.0, 102700.0, 53270.0, 143818.0, 67347.0, 180364.0, 184889.0, 124542.0, 47129.0, 206162.0, 229886.0, 100893.0, 90304.0, 146912.0, 131367.0, 50593.0, 62387.0, 82899.0, 76418.0, 240740.0, 82534.0, 55732.0, 198596.0, 300021.0, 74754.0, 27661.0, 115241.0, 41577.0, 26911.0, 21527.0, 56461.0, 35905.0, 35747.0, 167011.0, 116480.0, 72084.0, 295780.0, 34165.0, 25698.0, 155242.0, 19850.0, 116535.0, 18647.0, 252588.0, 27773.0, 86841.0, 14053.0, 145483.0, 185983.0, 28464.0, 154989.0, 36295.0, 15630.0, 14786.0, 16146.0, 15265.0, 16059.0, 15569.0, 17488.0, 18550.0, 17644.0, 17684.0, 16600.0, 17801.0, 17159.0, 17983.0, 17851.0, 18174.0], \"yaxis\": \"y\"}],\n",
              "                        {\"coloraxis\": {\"colorbar\": {\"title\": {\"text\": \"price\"}}, \"colorscale\": [[0.0, \"#0d0887\"], [0.1111111111111111, \"#46039f\"], [0.2222222222222222, \"#7201a8\"], [0.3333333333333333, \"#9c179e\"], [0.4444444444444444, \"#bd3786\"], [0.5555555555555556, \"#d8576b\"], [0.6666666666666666, \"#ed7953\"], [0.7777777777777778, \"#fb9f3a\"], [0.8888888888888888, \"#fdca26\"], [1.0, \"#f0f921\"]]}, \"legend\": {\"tracegroupgap\": 0}, \"margin\": {\"t\": 60}, \"template\": {\"data\": {\"bar\": [{\"error_x\": {\"color\": \"#2a3f5f\"}, \"error_y\": {\"color\": \"#2a3f5f\"}, \"marker\": {\"line\": {\"color\": \"#E5ECF6\", \"width\": 0.5}}, \"type\": \"bar\"}], \"barpolar\": [{\"marker\": {\"line\": {\"color\": \"#E5ECF6\", \"width\": 0.5}}, \"type\": \"barpolar\"}], \"carpet\": [{\"aaxis\": {\"endlinecolor\": \"#2a3f5f\", \"gridcolor\": \"white\", \"linecolor\": \"white\", \"minorgridcolor\": \"white\", \"startlinecolor\": \"#2a3f5f\"}, \"baxis\": {\"endlinecolor\": \"#2a3f5f\", \"gridcolor\": \"white\", \"linecolor\": \"white\", \"minorgridcolor\": \"white\", \"startlinecolor\": \"#2a3f5f\"}, \"type\": \"carpet\"}], \"choropleth\": [{\"colorbar\": {\"outlinewidth\": 0, \"ticks\": \"\"}, \"type\": \"choropleth\"}], \"contour\": [{\"colorbar\": {\"outlinewidth\": 0, \"ticks\": \"\"}, \"colorscale\": [[0.0, \"#0d0887\"], [0.1111111111111111, \"#46039f\"], [0.2222222222222222, \"#7201a8\"], [0.3333333333333333, \"#9c179e\"], [0.4444444444444444, \"#bd3786\"], [0.5555555555555556, \"#d8576b\"], [0.6666666666666666, \"#ed7953\"], [0.7777777777777778, \"#fb9f3a\"], [0.8888888888888888, \"#fdca26\"], [1.0, \"#f0f921\"]], \"type\": \"contour\"}], \"contourcarpet\": [{\"colorbar\": {\"outlinewidth\": 0, \"ticks\": \"\"}, \"type\": \"contourcarpet\"}], \"heatmap\": [{\"colorbar\": {\"outlinewidth\": 0, \"ticks\": \"\"}, \"colorscale\": [[0.0, \"#0d0887\"], [0.1111111111111111, \"#46039f\"], [0.2222222222222222, \"#7201a8\"], [0.3333333333333333, \"#9c179e\"], [0.4444444444444444, \"#bd3786\"], [0.5555555555555556, \"#d8576b\"], [0.6666666666666666, \"#ed7953\"], [0.7777777777777778, \"#fb9f3a\"], [0.8888888888888888, \"#fdca26\"], [1.0, \"#f0f921\"]], \"type\": \"heatmap\"}], \"heatmapgl\": [{\"colorbar\": {\"outlinewidth\": 0, \"ticks\": \"\"}, \"colorscale\": [[0.0, \"#0d0887\"], [0.1111111111111111, \"#46039f\"], [0.2222222222222222, \"#7201a8\"], [0.3333333333333333, \"#9c179e\"], [0.4444444444444444, \"#bd3786\"], [0.5555555555555556, \"#d8576b\"], [0.6666666666666666, \"#ed7953\"], [0.7777777777777778, \"#fb9f3a\"], [0.8888888888888888, \"#fdca26\"], [1.0, \"#f0f921\"]], \"type\": \"heatmapgl\"}], \"histogram\": [{\"marker\": {\"colorbar\": {\"outlinewidth\": 0, \"ticks\": \"\"}}, \"type\": \"histogram\"}], \"histogram2d\": [{\"colorbar\": {\"outlinewidth\": 0, \"ticks\": \"\"}, \"colorscale\": [[0.0, \"#0d0887\"], [0.1111111111111111, \"#46039f\"], [0.2222222222222222, \"#7201a8\"], [0.3333333333333333, \"#9c179e\"], [0.4444444444444444, \"#bd3786\"], [0.5555555555555556, \"#d8576b\"], [0.6666666666666666, \"#ed7953\"], [0.7777777777777778, \"#fb9f3a\"], [0.8888888888888888, \"#fdca26\"], [1.0, \"#f0f921\"]], \"type\": \"histogram2d\"}], \"histogram2dcontour\": [{\"colorbar\": {\"outlinewidth\": 0, \"ticks\": \"\"}, \"colorscale\": [[0.0, \"#0d0887\"], [0.1111111111111111, \"#46039f\"], [0.2222222222222222, \"#7201a8\"], [0.3333333333333333, \"#9c179e\"], [0.4444444444444444, \"#bd3786\"], [0.5555555555555556, \"#d8576b\"], [0.6666666666666666, \"#ed7953\"], [0.7777777777777778, \"#fb9f3a\"], [0.8888888888888888, \"#fdca26\"], [1.0, \"#f0f921\"]], \"type\": \"histogram2dcontour\"}], \"mesh3d\": [{\"colorbar\": {\"outlinewidth\": 0, \"ticks\": \"\"}, \"type\": \"mesh3d\"}], \"parcoords\": [{\"line\": {\"colorbar\": {\"outlinewidth\": 0, \"ticks\": \"\"}}, \"type\": \"parcoords\"}], \"pie\": [{\"automargin\": true, \"type\": \"pie\"}], \"scatter\": [{\"marker\": {\"colorbar\": {\"outlinewidth\": 0, \"ticks\": \"\"}}, \"type\": \"scatter\"}], \"scatter3d\": [{\"line\": {\"colorbar\": {\"outlinewidth\": 0, \"ticks\": \"\"}}, \"marker\": {\"colorbar\": {\"outlinewidth\": 0, \"ticks\": \"\"}}, \"type\": \"scatter3d\"}], \"scattercarpet\": [{\"marker\": {\"colorbar\": {\"outlinewidth\": 0, \"ticks\": \"\"}}, \"type\": \"scattercarpet\"}], \"scattergeo\": [{\"marker\": {\"colorbar\": {\"outlinewidth\": 0, \"ticks\": \"\"}}, \"type\": \"scattergeo\"}], \"scattergl\": [{\"marker\": {\"colorbar\": {\"outlinewidth\": 0, \"ticks\": \"\"}}, \"type\": \"scattergl\"}], \"scattermapbox\": [{\"marker\": {\"colorbar\": {\"outlinewidth\": 0, \"ticks\": \"\"}}, \"type\": \"scattermapbox\"}], \"scatterpolar\": [{\"marker\": {\"colorbar\": {\"outlinewidth\": 0, \"ticks\": \"\"}}, \"type\": \"scatterpolar\"}], \"scatterpolargl\": [{\"marker\": {\"colorbar\": {\"outlinewidth\": 0, \"ticks\": \"\"}}, \"type\": \"scatterpolargl\"}], \"scatterternary\": [{\"marker\": {\"colorbar\": {\"outlinewidth\": 0, \"ticks\": \"\"}}, \"type\": \"scatterternary\"}], \"surface\": [{\"colorbar\": {\"outlinewidth\": 0, \"ticks\": \"\"}, \"colorscale\": [[0.0, \"#0d0887\"], [0.1111111111111111, \"#46039f\"], [0.2222222222222222, \"#7201a8\"], [0.3333333333333333, \"#9c179e\"], [0.4444444444444444, \"#bd3786\"], [0.5555555555555556, \"#d8576b\"], [0.6666666666666666, \"#ed7953\"], [0.7777777777777778, \"#fb9f3a\"], [0.8888888888888888, \"#fdca26\"], [1.0, \"#f0f921\"]], \"type\": \"surface\"}], \"table\": [{\"cells\": {\"fill\": {\"color\": \"#EBF0F8\"}, \"line\": {\"color\": \"white\"}}, \"header\": {\"fill\": {\"color\": \"#C8D4E3\"}, \"line\": {\"color\": \"white\"}}, \"type\": \"table\"}]}, \"layout\": {\"annotationdefaults\": {\"arrowcolor\": \"#2a3f5f\", \"arrowhead\": 0, \"arrowwidth\": 1}, \"coloraxis\": {\"colorbar\": {\"outlinewidth\": 0, \"ticks\": \"\"}}, \"colorscale\": {\"diverging\": [[0, \"#8e0152\"], [0.1, \"#c51b7d\"], [0.2, \"#de77ae\"], [0.3, \"#f1b6da\"], [0.4, \"#fde0ef\"], [0.5, \"#f7f7f7\"], [0.6, \"#e6f5d0\"], [0.7, \"#b8e186\"], [0.8, \"#7fbc41\"], [0.9, \"#4d9221\"], [1, \"#276419\"]], \"sequential\": [[0.0, \"#0d0887\"], [0.1111111111111111, \"#46039f\"], [0.2222222222222222, \"#7201a8\"], [0.3333333333333333, \"#9c179e\"], [0.4444444444444444, \"#bd3786\"], [0.5555555555555556, \"#d8576b\"], [0.6666666666666666, \"#ed7953\"], [0.7777777777777778, \"#fb9f3a\"], [0.8888888888888888, \"#fdca26\"], [1.0, \"#f0f921\"]], \"sequentialminus\": [[0.0, \"#0d0887\"], [0.1111111111111111, \"#46039f\"], [0.2222222222222222, \"#7201a8\"], [0.3333333333333333, \"#9c179e\"], [0.4444444444444444, \"#bd3786\"], [0.5555555555555556, \"#d8576b\"], [0.6666666666666666, \"#ed7953\"], [0.7777777777777778, \"#fb9f3a\"], [0.8888888888888888, \"#fdca26\"], [1.0, \"#f0f921\"]]}, \"colorway\": [\"#636efa\", \"#EF553B\", \"#00cc96\", \"#ab63fa\", \"#FFA15A\", \"#19d3f3\", \"#FF6692\", \"#B6E880\", \"#FF97FF\", \"#FECB52\"], \"font\": {\"color\": \"#2a3f5f\"}, \"geo\": {\"bgcolor\": \"white\", \"lakecolor\": \"white\", \"landcolor\": \"#E5ECF6\", \"showlakes\": true, \"showland\": true, \"subunitcolor\": \"white\"}, \"hoverlabel\": {\"align\": \"left\"}, \"hovermode\": \"closest\", \"mapbox\": {\"style\": \"light\"}, \"paper_bgcolor\": \"white\", \"plot_bgcolor\": \"#E5ECF6\", \"polar\": {\"angularaxis\": {\"gridcolor\": \"white\", \"linecolor\": \"white\", \"ticks\": \"\"}, \"bgcolor\": \"#E5ECF6\", \"radialaxis\": {\"gridcolor\": \"white\", \"linecolor\": \"white\", \"ticks\": \"\"}}, \"scene\": {\"xaxis\": {\"backgroundcolor\": \"#E5ECF6\", \"gridcolor\": \"white\", \"gridwidth\": 2, \"linecolor\": \"white\", \"showbackground\": true, \"ticks\": \"\", \"zerolinecolor\": \"white\"}, \"yaxis\": {\"backgroundcolor\": \"#E5ECF6\", \"gridcolor\": \"white\", \"gridwidth\": 2, \"linecolor\": \"white\", \"showbackground\": true, \"ticks\": \"\", \"zerolinecolor\": \"white\"}, \"zaxis\": {\"backgroundcolor\": \"#E5ECF6\", \"gridcolor\": \"white\", \"gridwidth\": 2, \"linecolor\": \"white\", \"showbackground\": true, \"ticks\": \"\", \"zerolinecolor\": \"white\"}}, \"shapedefaults\": {\"line\": {\"color\": \"#2a3f5f\"}}, \"ternary\": {\"aaxis\": {\"gridcolor\": \"white\", \"linecolor\": \"white\", \"ticks\": \"\"}, \"baxis\": {\"gridcolor\": \"white\", \"linecolor\": \"white\", \"ticks\": \"\"}, \"bgcolor\": \"#E5ECF6\", \"caxis\": {\"gridcolor\": \"white\", \"linecolor\": \"white\", \"ticks\": \"\"}}, \"title\": {\"x\": 0.05}, \"xaxis\": {\"automargin\": true, \"gridcolor\": \"white\", \"linecolor\": \"white\", \"ticks\": \"\", \"title\": {\"standoff\": 15}, \"zerolinecolor\": \"white\", \"zerolinewidth\": 2}, \"yaxis\": {\"automargin\": true, \"gridcolor\": \"white\", \"linecolor\": \"white\", \"ticks\": \"\", \"title\": {\"standoff\": 15}, \"zerolinecolor\": \"white\", \"zerolinewidth\": 2}}}, \"xaxis\": {\"anchor\": \"y\", \"domain\": [0.0, 1.0], \"title\": {\"text\": \"year\"}}, \"yaxis\": {\"anchor\": \"x\", \"domain\": [0.0, 1.0], \"title\": {\"text\": \"mileage\"}}},\n",
              "                        {\"responsive\": true}\n",
              "                    ).then(function(){\n",
              "                            \n",
              "var gd = document.getElementById('776def9b-ab8a-4152-a419-dfd887f72ad7');\n",
              "var x = new MutationObserver(function (mutations, observer) {{\n",
              "        var display = window.getComputedStyle(gd).display;\n",
              "        if (!display || display === 'none') {{\n",
              "            console.log([gd, 'removed!']);\n",
              "            Plotly.purge(gd);\n",
              "            observer.disconnect();\n",
              "        }}\n",
              "}});\n",
              "\n",
              "// Listen for the removal of the full notebook cells\n",
              "var notebookContainer = gd.closest('#notebook-container');\n",
              "if (notebookContainer) {{\n",
              "    x.observe(notebookContainer, {childList: true});\n",
              "}}\n",
              "\n",
              "// Listen for the clearing of the current output cell\n",
              "var outputEl = gd.closest('.output');\n",
              "if (outputEl) {{\n",
              "    x.observe(outputEl, {childList: true});\n",
              "}}\n",
              "\n",
              "                        })\n",
              "                };\n",
              "                \n",
              "            </script>\n",
              "        </div>\n",
              "</body>\n",
              "</html>"
            ]
          },
          "metadata": {}
        }
      ]
    },
    {
      "cell_type": "markdown",
      "source": [
        "**3D Representition of the model:**"
      ],
      "metadata": {
        "id": "VU7lzPd6fFZp"
      }
    },
    {
      "cell_type": "code",
      "source": [
        "fig = px.scatter_3d(train_ford_df, x=\"year\", y=\"mileage\", z=\"price\",color = \"price\")\n",
        "fig.show()"
      ],
      "metadata": {
        "colab": {
          "base_uri": "https://localhost:8080/",
          "height": 542
        },
        "id": "eEj-t0ADfNa6",
        "outputId": "1fae1db9-0df1-4915-a0c8-666406a9b804"
      },
      "execution_count": 87,
      "outputs": [
        {
          "output_type": "display_data",
          "data": {
            "text/html": [
              "<html>\n",
              "<head><meta charset=\"utf-8\" /></head>\n",
              "<body>\n",
              "    <div>\n",
              "            <script src=\"https://cdnjs.cloudflare.com/ajax/libs/mathjax/2.7.5/MathJax.js?config=TeX-AMS-MML_SVG\"></script><script type=\"text/javascript\">if (window.MathJax) {MathJax.Hub.Config({SVG: {font: \"STIX-Web\"}});}</script>\n",
              "                <script type=\"text/javascript\">window.PlotlyConfig = {MathJaxConfig: 'local'};</script>\n",
              "        <script src=\"https://cdn.plot.ly/plotly-latest.min.js\"></script>    \n",
              "            <div id=\"3dcf1be1-6e96-492e-8241-883e763d0195\" class=\"plotly-graph-div\" style=\"height:525px; width:100%;\"></div>\n",
              "            <script type=\"text/javascript\">\n",
              "                \n",
              "                    window.PLOTLYENV=window.PLOTLYENV || {};\n",
              "                    \n",
              "                if (document.getElementById(\"3dcf1be1-6e96-492e-8241-883e763d0195\")) {\n",
              "                    Plotly.newPlot(\n",
              "                        '3dcf1be1-6e96-492e-8241-883e763d0195',\n",
              "                        [{\"hoverlabel\": {\"namelength\": 0}, \"hovertemplate\": \"year=%{x}<br>mileage=%{y}<br>price=%{marker.color}\", \"legendgroup\": \"\", \"marker\": {\"color\": [2899, 25000, 5250, 20700, 5210, 38100, 6180, 20800, 4190, 13000, 5330, 13000, 7320, 7000, 6330, 55000, 54000, 7760, 6650, 4340, 4430, 4140, 4640, 24000, 4140, 11500, 9110, 9300, 15110, 34000, 5990, 13600, 10780, 13800, 7070, 8700, 8530, 7000, 17000, 6980, 9200, 7070, 28500, 23500, 10940, 32100, 6830, 6700, 19900, 22300, 22800, 18500, 28800, 21000, 25800, 14600, 15110, 7900, 15290, 26500, 7320, 4140, 4160, 15840, 20500, 4200, 17400, 0, 15700, 3740, 3160, 12990, 4410, 7420, 13500, 3540, 17000, 4130, 15700, 4130, 4530, 4100, 4080, 5700, 5000, 1700, 3650, 3450, 6810, 2900, 4450, 5800, 26500, 8600, 8000, 7040, 4700, 4880, 13270, 12800, 9280, 900, 7560, 19500, 8020, 10300, 10480, 10300, 7410, 10300, 7570, 12560, 11760, 0, 7340, 725, 7400, 720, 22800, 2500, 0, 22809, 0, 0, 23702, 0, 0, 24800, 0, 0, 27003, 0, 350, 3920, 23100, 8850, 18712, 0, 0, 3440, 50412, 25, 950, 3790, 40514, 0, 0, 3830, 43402, 10630, 43009, 4600, 3830, 53500, 25, 25, 6490, 51502, 250, 25, 9210, 58500, 125, 33001, 10000, 0, 4480, 31003, 75, 27102, 23911, 25, 26012, 75, 25503, 0, 25001, 0, 29502, 0, 3870, 24811, 75, 26400, 27705, 28714, 27502, 29314, 27002, 28214, 29900, 27202, 27705, 29900, 27705, 25511, 29900, 27502, 27402, 26602], \"coloraxis\": \"coloraxis\", \"symbol\": \"circle\"}, \"mode\": \"markers\", \"name\": \"\", \"scene\": \"scene\", \"showlegend\": false, \"type\": \"scatter3d\", \"x\": [2011, 2014, 2017, 2013, 2017, 2013, 2017, 2013, 2017, 2008, 2017, 2003, 2017, 2003, 2017, 2017, 2017, 2017, 2017, 2017, 2017, 2017, 2017, 2016, 2017, 2016, 2017, 2017, 2017, 2015, 2017, 2018, 2017, 2018, 2017, 2018, 2017, 2017, 2018, 2017, 2017, 2017, 2017, 2017, 2017, 2017, 2017, 2014, 2016, 2016, 2016, 2016, 2016, 2016, 2014, 2014, 2017, 2014, 2017, 2015, 2017, 2017, 2017, 2017, 2014, 2017, 2011, 2017, 2011, 2017, 2017, 2017, 2017, 2017, 2016, 2017, 2016, 2017, 2015, 2017, 2017, 2017, 2017, 2014, 2017, 2014, 2016, 2012, 2016, 2011, 2016, 2011, 2008, 2016, 2008, 2016, 2005, 2016, 2016, 2012, 2016, 2003, 2016, 2011, 2016, 2019, 2016, 2019, 2016, 2019, 2016, 2019, 2017, 2000, 2019, 2017, 2019, 2006, 2017, 2017, 2003, 2017, 1998, 2013, 2017, 1994, 1997, 2017, 1996, 2006, 2017, 2002, 2004, 2015, 2017, 2015, 2017, 2009, 2009, 2015, 2017, 1994, 2001, 2015, 2017, 1997, 1998, 2015, 2017, 2015, 2017, 2006, 2015, 2017, 2010, 1998, 2015, 2017, 2010, 1984, 2015, 2019, 2014, 2017, 2017, 2004, 2011, 2017, 2001, 2017, 2017, 2010, 2017, 2014, 2017, 1996, 2017, 2010, 2017, 2008, 2010, 2017, 2007, 2017, 2019, 2019, 2019, 2019, 2019, 2019, 2019, 2019, 2019, 2019, 2019, 2019, 2019, 2019, 2019, 2019], \"y\": [190552.0, 64146.0, 63418.0, 100757.0, 35714.0, 54380.0, 46010.0, 105510.0, 44174.0, 93698.0, 37792.0, 58817.0, 32366.0, 176567.0, 38123.0, 15273.0, 26241.0, 44794.0, 29942.0, 25602.0, 31792.0, 36732.0, 36139.0, 84413.0, 17617.0, 36855.0, 110316.0, 120353.0, 39333.0, 42930.0, 44929.0, 16971.0, 40455.0, 23164.0, 45191.0, 21405.0, 42104.0, 29882.0, 34819.0, 29168.0, 21770.0, 30318.0, 48086.0, 57611.0, 84916.0, 24521.0, 35888.0, 204155.0, 86826.0, 62774.0, 72885.0, 33514.0, 77638.0, 24157.0, 47055.0, 75785.0, 42289.0, 79422.0, 66582.0, 61436.0, 55618.0, 40747.0, 37176.0, 72445.0, 123355.0, 60219.0, 135077.0, 76858.0, 309564.0, 90618.0, 31563.0, 126523.0, 209915.0, 55854.0, 45757.0, 112893.0, 126802.0, 34061.0, 70251.0, 42426.0, 41455.0, 38815.0, 61027.0, 178703.0, 37321.0, 112789.0, 68142.0, 90711.0, 66781.0, 190994.0, 32486.0, 195908.0, 62015.0, 73321.0, 132379.0, 33291.0, 225236.0, 36876.0, 84035.0, 131101.0, 101380.0, 142027.0, 111476.0, 76897.0, 31944.0, 18937.0, 57289.0, 19956.0, 21034.0, 22881.0, 37252.0, 15958.0, 30553.0, 124969.0, 15854.0, 67279.0, 16482.0, 26914.0, 67217.0, 78698.0, 246065.0, 50732.0, 186855.0, 94004.0, 49024.0, 0.0, 203297.0, 46955.0, 296860.0, 203158.0, 57186.0, 214800.0, 236980.0, 102700.0, 53270.0, 143818.0, 67347.0, 180364.0, 184889.0, 124542.0, 47129.0, 206162.0, 229886.0, 100893.0, 90304.0, 146912.0, 131367.0, 50593.0, 62387.0, 82899.0, 76418.0, 240740.0, 82534.0, 55732.0, 198596.0, 300021.0, 74754.0, 27661.0, 115241.0, 41577.0, 26911.0, 21527.0, 56461.0, 35905.0, 35747.0, 167011.0, 116480.0, 72084.0, 295780.0, 34165.0, 25698.0, 155242.0, 19850.0, 116535.0, 18647.0, 252588.0, 27773.0, 86841.0, 14053.0, 145483.0, 185983.0, 28464.0, 154989.0, 36295.0, 15630.0, 14786.0, 16146.0, 15265.0, 16059.0, 15569.0, 17488.0, 18550.0, 17644.0, 17684.0, 16600.0, 17801.0, 17159.0, 17983.0, 17851.0, 18174.0], \"z\": [2899, 25000, 5250, 20700, 5210, 38100, 6180, 20800, 4190, 13000, 5330, 13000, 7320, 7000, 6330, 55000, 54000, 7760, 6650, 4340, 4430, 4140, 4640, 24000, 4140, 11500, 9110, 9300, 15110, 34000, 5990, 13600, 10780, 13800, 7070, 8700, 8530, 7000, 17000, 6980, 9200, 7070, 28500, 23500, 10940, 32100, 6830, 6700, 19900, 22300, 22800, 18500, 28800, 21000, 25800, 14600, 15110, 7900, 15290, 26500, 7320, 4140, 4160, 15840, 20500, 4200, 17400, 0, 15700, 3740, 3160, 12990, 4410, 7420, 13500, 3540, 17000, 4130, 15700, 4130, 4530, 4100, 4080, 5700, 5000, 1700, 3650, 3450, 6810, 2900, 4450, 5800, 26500, 8600, 8000, 7040, 4700, 4880, 13270, 12800, 9280, 900, 7560, 19500, 8020, 10300, 10480, 10300, 7410, 10300, 7570, 12560, 11760, 0, 7340, 725, 7400, 720, 22800, 2500, 0, 22809, 0, 0, 23702, 0, 0, 24800, 0, 0, 27003, 0, 350, 3920, 23100, 8850, 18712, 0, 0, 3440, 50412, 25, 950, 3790, 40514, 0, 0, 3830, 43402, 10630, 43009, 4600, 3830, 53500, 25, 25, 6490, 51502, 250, 25, 9210, 58500, 125, 33001, 10000, 0, 4480, 31003, 75, 27102, 23911, 25, 26012, 75, 25503, 0, 25001, 0, 29502, 0, 3870, 24811, 75, 26400, 27705, 28714, 27502, 29314, 27002, 28214, 29900, 27202, 27705, 29900, 27705, 25511, 29900, 27502, 27402, 26602]}],\n",
              "                        {\"coloraxis\": {\"colorbar\": {\"title\": {\"text\": \"price\"}}, \"colorscale\": [[0.0, \"#0d0887\"], [0.1111111111111111, \"#46039f\"], [0.2222222222222222, \"#7201a8\"], [0.3333333333333333, \"#9c179e\"], [0.4444444444444444, \"#bd3786\"], [0.5555555555555556, \"#d8576b\"], [0.6666666666666666, \"#ed7953\"], [0.7777777777777778, \"#fb9f3a\"], [0.8888888888888888, \"#fdca26\"], [1.0, \"#f0f921\"]]}, \"legend\": {\"tracegroupgap\": 0}, \"margin\": {\"t\": 60}, \"scene\": {\"domain\": {\"x\": [0.0, 1.0], \"y\": [0.0, 1.0]}, \"xaxis\": {\"title\": {\"text\": \"year\"}}, \"yaxis\": {\"title\": {\"text\": \"mileage\"}}, \"zaxis\": {\"title\": {\"text\": \"price\"}}}, \"template\": {\"data\": {\"bar\": [{\"error_x\": {\"color\": \"#2a3f5f\"}, \"error_y\": {\"color\": \"#2a3f5f\"}, \"marker\": {\"line\": {\"color\": \"#E5ECF6\", \"width\": 0.5}}, \"type\": \"bar\"}], \"barpolar\": [{\"marker\": {\"line\": {\"color\": \"#E5ECF6\", \"width\": 0.5}}, \"type\": \"barpolar\"}], \"carpet\": [{\"aaxis\": {\"endlinecolor\": \"#2a3f5f\", \"gridcolor\": \"white\", \"linecolor\": \"white\", \"minorgridcolor\": \"white\", \"startlinecolor\": \"#2a3f5f\"}, \"baxis\": {\"endlinecolor\": \"#2a3f5f\", \"gridcolor\": \"white\", \"linecolor\": \"white\", \"minorgridcolor\": \"white\", \"startlinecolor\": \"#2a3f5f\"}, \"type\": \"carpet\"}], \"choropleth\": [{\"colorbar\": {\"outlinewidth\": 0, \"ticks\": \"\"}, \"type\": \"choropleth\"}], \"contour\": [{\"colorbar\": {\"outlinewidth\": 0, \"ticks\": \"\"}, \"colorscale\": [[0.0, \"#0d0887\"], [0.1111111111111111, \"#46039f\"], [0.2222222222222222, \"#7201a8\"], [0.3333333333333333, \"#9c179e\"], [0.4444444444444444, \"#bd3786\"], [0.5555555555555556, \"#d8576b\"], [0.6666666666666666, \"#ed7953\"], [0.7777777777777778, \"#fb9f3a\"], [0.8888888888888888, \"#fdca26\"], [1.0, \"#f0f921\"]], \"type\": \"contour\"}], \"contourcarpet\": [{\"colorbar\": {\"outlinewidth\": 0, \"ticks\": \"\"}, \"type\": \"contourcarpet\"}], \"heatmap\": [{\"colorbar\": {\"outlinewidth\": 0, \"ticks\": \"\"}, \"colorscale\": [[0.0, \"#0d0887\"], [0.1111111111111111, \"#46039f\"], [0.2222222222222222, \"#7201a8\"], [0.3333333333333333, \"#9c179e\"], [0.4444444444444444, \"#bd3786\"], [0.5555555555555556, \"#d8576b\"], [0.6666666666666666, \"#ed7953\"], [0.7777777777777778, \"#fb9f3a\"], [0.8888888888888888, \"#fdca26\"], [1.0, \"#f0f921\"]], \"type\": \"heatmap\"}], \"heatmapgl\": [{\"colorbar\": {\"outlinewidth\": 0, \"ticks\": \"\"}, \"colorscale\": [[0.0, \"#0d0887\"], [0.1111111111111111, \"#46039f\"], [0.2222222222222222, \"#7201a8\"], [0.3333333333333333, \"#9c179e\"], [0.4444444444444444, \"#bd3786\"], [0.5555555555555556, \"#d8576b\"], [0.6666666666666666, \"#ed7953\"], [0.7777777777777778, \"#fb9f3a\"], [0.8888888888888888, \"#fdca26\"], [1.0, \"#f0f921\"]], \"type\": \"heatmapgl\"}], \"histogram\": [{\"marker\": {\"colorbar\": {\"outlinewidth\": 0, \"ticks\": \"\"}}, \"type\": \"histogram\"}], \"histogram2d\": [{\"colorbar\": {\"outlinewidth\": 0, \"ticks\": \"\"}, \"colorscale\": [[0.0, \"#0d0887\"], [0.1111111111111111, \"#46039f\"], [0.2222222222222222, \"#7201a8\"], [0.3333333333333333, \"#9c179e\"], [0.4444444444444444, \"#bd3786\"], [0.5555555555555556, \"#d8576b\"], [0.6666666666666666, \"#ed7953\"], [0.7777777777777778, \"#fb9f3a\"], [0.8888888888888888, \"#fdca26\"], [1.0, \"#f0f921\"]], \"type\": \"histogram2d\"}], \"histogram2dcontour\": [{\"colorbar\": {\"outlinewidth\": 0, \"ticks\": \"\"}, \"colorscale\": [[0.0, \"#0d0887\"], [0.1111111111111111, \"#46039f\"], [0.2222222222222222, \"#7201a8\"], [0.3333333333333333, \"#9c179e\"], [0.4444444444444444, \"#bd3786\"], [0.5555555555555556, \"#d8576b\"], [0.6666666666666666, \"#ed7953\"], [0.7777777777777778, \"#fb9f3a\"], [0.8888888888888888, \"#fdca26\"], [1.0, \"#f0f921\"]], \"type\": \"histogram2dcontour\"}], \"mesh3d\": [{\"colorbar\": {\"outlinewidth\": 0, \"ticks\": \"\"}, \"type\": \"mesh3d\"}], \"parcoords\": [{\"line\": {\"colorbar\": {\"outlinewidth\": 0, \"ticks\": \"\"}}, \"type\": \"parcoords\"}], \"pie\": [{\"automargin\": true, \"type\": \"pie\"}], \"scatter\": [{\"marker\": {\"colorbar\": {\"outlinewidth\": 0, \"ticks\": \"\"}}, \"type\": \"scatter\"}], \"scatter3d\": [{\"line\": {\"colorbar\": {\"outlinewidth\": 0, \"ticks\": \"\"}}, \"marker\": {\"colorbar\": {\"outlinewidth\": 0, \"ticks\": \"\"}}, \"type\": \"scatter3d\"}], \"scattercarpet\": [{\"marker\": {\"colorbar\": {\"outlinewidth\": 0, \"ticks\": \"\"}}, \"type\": \"scattercarpet\"}], \"scattergeo\": [{\"marker\": {\"colorbar\": {\"outlinewidth\": 0, \"ticks\": \"\"}}, \"type\": \"scattergeo\"}], \"scattergl\": [{\"marker\": {\"colorbar\": {\"outlinewidth\": 0, \"ticks\": \"\"}}, \"type\": \"scattergl\"}], \"scattermapbox\": [{\"marker\": {\"colorbar\": {\"outlinewidth\": 0, \"ticks\": \"\"}}, \"type\": \"scattermapbox\"}], \"scatterpolar\": [{\"marker\": {\"colorbar\": {\"outlinewidth\": 0, \"ticks\": \"\"}}, \"type\": \"scatterpolar\"}], \"scatterpolargl\": [{\"marker\": {\"colorbar\": {\"outlinewidth\": 0, \"ticks\": \"\"}}, \"type\": \"scatterpolargl\"}], \"scatterternary\": [{\"marker\": {\"colorbar\": {\"outlinewidth\": 0, \"ticks\": \"\"}}, \"type\": \"scatterternary\"}], \"surface\": [{\"colorbar\": {\"outlinewidth\": 0, \"ticks\": \"\"}, \"colorscale\": [[0.0, \"#0d0887\"], [0.1111111111111111, \"#46039f\"], [0.2222222222222222, \"#7201a8\"], [0.3333333333333333, \"#9c179e\"], [0.4444444444444444, \"#bd3786\"], [0.5555555555555556, \"#d8576b\"], [0.6666666666666666, \"#ed7953\"], [0.7777777777777778, \"#fb9f3a\"], [0.8888888888888888, \"#fdca26\"], [1.0, \"#f0f921\"]], \"type\": \"surface\"}], \"table\": [{\"cells\": {\"fill\": {\"color\": \"#EBF0F8\"}, \"line\": {\"color\": \"white\"}}, \"header\": {\"fill\": {\"color\": \"#C8D4E3\"}, \"line\": {\"color\": \"white\"}}, \"type\": \"table\"}]}, \"layout\": {\"annotationdefaults\": {\"arrowcolor\": \"#2a3f5f\", \"arrowhead\": 0, \"arrowwidth\": 1}, \"coloraxis\": {\"colorbar\": {\"outlinewidth\": 0, \"ticks\": \"\"}}, \"colorscale\": {\"diverging\": [[0, \"#8e0152\"], [0.1, \"#c51b7d\"], [0.2, \"#de77ae\"], [0.3, \"#f1b6da\"], [0.4, \"#fde0ef\"], [0.5, \"#f7f7f7\"], [0.6, \"#e6f5d0\"], [0.7, \"#b8e186\"], [0.8, \"#7fbc41\"], [0.9, \"#4d9221\"], [1, \"#276419\"]], \"sequential\": [[0.0, \"#0d0887\"], [0.1111111111111111, \"#46039f\"], [0.2222222222222222, \"#7201a8\"], [0.3333333333333333, \"#9c179e\"], [0.4444444444444444, \"#bd3786\"], [0.5555555555555556, \"#d8576b\"], [0.6666666666666666, \"#ed7953\"], [0.7777777777777778, \"#fb9f3a\"], [0.8888888888888888, \"#fdca26\"], [1.0, \"#f0f921\"]], \"sequentialminus\": [[0.0, \"#0d0887\"], [0.1111111111111111, \"#46039f\"], [0.2222222222222222, \"#7201a8\"], [0.3333333333333333, \"#9c179e\"], [0.4444444444444444, \"#bd3786\"], [0.5555555555555556, \"#d8576b\"], [0.6666666666666666, \"#ed7953\"], [0.7777777777777778, \"#fb9f3a\"], [0.8888888888888888, \"#fdca26\"], [1.0, \"#f0f921\"]]}, \"colorway\": [\"#636efa\", \"#EF553B\", \"#00cc96\", \"#ab63fa\", \"#FFA15A\", \"#19d3f3\", \"#FF6692\", \"#B6E880\", \"#FF97FF\", \"#FECB52\"], \"font\": {\"color\": \"#2a3f5f\"}, \"geo\": {\"bgcolor\": \"white\", \"lakecolor\": \"white\", \"landcolor\": \"#E5ECF6\", \"showlakes\": true, \"showland\": true, \"subunitcolor\": \"white\"}, \"hoverlabel\": {\"align\": \"left\"}, \"hovermode\": \"closest\", \"mapbox\": {\"style\": \"light\"}, \"paper_bgcolor\": \"white\", \"plot_bgcolor\": \"#E5ECF6\", \"polar\": {\"angularaxis\": {\"gridcolor\": \"white\", \"linecolor\": \"white\", \"ticks\": \"\"}, \"bgcolor\": \"#E5ECF6\", \"radialaxis\": {\"gridcolor\": \"white\", \"linecolor\": \"white\", \"ticks\": \"\"}}, \"scene\": {\"xaxis\": {\"backgroundcolor\": \"#E5ECF6\", \"gridcolor\": \"white\", \"gridwidth\": 2, \"linecolor\": \"white\", \"showbackground\": true, \"ticks\": \"\", \"zerolinecolor\": \"white\"}, \"yaxis\": {\"backgroundcolor\": \"#E5ECF6\", \"gridcolor\": \"white\", \"gridwidth\": 2, \"linecolor\": \"white\", \"showbackground\": true, \"ticks\": \"\", \"zerolinecolor\": \"white\"}, \"zaxis\": {\"backgroundcolor\": \"#E5ECF6\", \"gridcolor\": \"white\", \"gridwidth\": 2, \"linecolor\": \"white\", \"showbackground\": true, \"ticks\": \"\", \"zerolinecolor\": \"white\"}}, \"shapedefaults\": {\"line\": {\"color\": \"#2a3f5f\"}}, \"ternary\": {\"aaxis\": {\"gridcolor\": \"white\", \"linecolor\": \"white\", \"ticks\": \"\"}, \"baxis\": {\"gridcolor\": \"white\", \"linecolor\": \"white\", \"ticks\": \"\"}, \"bgcolor\": \"#E5ECF6\", \"caxis\": {\"gridcolor\": \"white\", \"linecolor\": \"white\", \"ticks\": \"\"}}, \"title\": {\"x\": 0.05}, \"xaxis\": {\"automargin\": true, \"gridcolor\": \"white\", \"linecolor\": \"white\", \"ticks\": \"\", \"title\": {\"standoff\": 15}, \"zerolinecolor\": \"white\", \"zerolinewidth\": 2}, \"yaxis\": {\"automargin\": true, \"gridcolor\": \"white\", \"linecolor\": \"white\", \"ticks\": \"\", \"title\": {\"standoff\": 15}, \"zerolinecolor\": \"white\", \"zerolinewidth\": 2}}}},\n",
              "                        {\"responsive\": true}\n",
              "                    ).then(function(){\n",
              "                            \n",
              "var gd = document.getElementById('3dcf1be1-6e96-492e-8241-883e763d0195');\n",
              "var x = new MutationObserver(function (mutations, observer) {{\n",
              "        var display = window.getComputedStyle(gd).display;\n",
              "        if (!display || display === 'none') {{\n",
              "            console.log([gd, 'removed!']);\n",
              "            Plotly.purge(gd);\n",
              "            observer.disconnect();\n",
              "        }}\n",
              "}});\n",
              "\n",
              "// Listen for the removal of the full notebook cells\n",
              "var notebookContainer = gd.closest('#notebook-container');\n",
              "if (notebookContainer) {{\n",
              "    x.observe(notebookContainer, {childList: true});\n",
              "}}\n",
              "\n",
              "// Listen for the clearing of the current output cell\n",
              "var outputEl = gd.closest('.output');\n",
              "if (outputEl) {{\n",
              "    x.observe(outputEl, {childList: true});\n",
              "}}\n",
              "\n",
              "                        })\n",
              "                };\n",
              "                \n",
              "            </script>\n",
              "        </div>\n",
              "</body>\n",
              "</html>"
            ]
          },
          "metadata": {}
        }
      ]
    },
    {
      "cell_type": "markdown",
      "source": [
        "## Question 3: Part 1"
      ],
      "metadata": {
        "id": "vNYNmEJif5RQ"
      }
    },
    {
      "cell_type": "code",
      "source": [
        "df = pd.read_csv('/content/datasets/Billionaires/Billionaire.csv')"
      ],
      "metadata": {
        "id": "5j9joIBxhzmM"
      },
      "execution_count": 88,
      "outputs": []
    },
    {
      "cell_type": "code",
      "source": [
        "df2 = df.groupby(['Industry']).size().reset_index(name='counts') # creatnig a new df that counts per industry how many billionares are from that industry\n",
        "new_df = pd.merge(df,df2) # merge both dfs\n",
        "more_than_3_df = new_df.loc[new_df['counts']> 3] # creates a new df with only billioners that there are 3 or more from thier industry \n",
        "more_than_3_df = more_than_3_df.loc[more_than_3_df['Age'] <= 100] # getting rid of annomalys\n",
        "more_than_3_df"
      ],
      "metadata": {
        "colab": {
          "base_uri": "https://localhost:8080/",
          "height": 423
        },
        "id": "y0OvzpXZklzH",
        "outputId": "c3ce13f0-dfa6-4b8c-bf12-d51ba1abb5d4"
      },
      "execution_count": 89,
      "outputs": [
        {
          "output_type": "execute_result",
          "data": {
            "text/html": [
              "<div>\n",
              "<style scoped>\n",
              "    .dataframe tbody tr th:only-of-type {\n",
              "        vertical-align: middle;\n",
              "    }\n",
              "\n",
              "    .dataframe tbody tr th {\n",
              "        vertical-align: top;\n",
              "    }\n",
              "\n",
              "    .dataframe thead th {\n",
              "        text-align: right;\n",
              "    }\n",
              "</style>\n",
              "<table border=\"1\" class=\"dataframe\">\n",
              "  <thead>\n",
              "    <tr style=\"text-align: right;\">\n",
              "      <th></th>\n",
              "      <th>Name</th>\n",
              "      <th>NetWorth</th>\n",
              "      <th>Country</th>\n",
              "      <th>Source</th>\n",
              "      <th>Rank</th>\n",
              "      <th>Age</th>\n",
              "      <th>Industry</th>\n",
              "      <th>counts</th>\n",
              "    </tr>\n",
              "  </thead>\n",
              "  <tbody>\n",
              "    <tr>\n",
              "      <th>0</th>\n",
              "      <td>Jeff Bezos</td>\n",
              "      <td>$177 B</td>\n",
              "      <td>United States</td>\n",
              "      <td>Amazon</td>\n",
              "      <td>1</td>\n",
              "      <td>57.0</td>\n",
              "      <td>Technology</td>\n",
              "      <td>365</td>\n",
              "    </tr>\n",
              "    <tr>\n",
              "      <th>1</th>\n",
              "      <td>Bill Gates</td>\n",
              "      <td>$124 B</td>\n",
              "      <td>United States</td>\n",
              "      <td>Microsoft</td>\n",
              "      <td>4</td>\n",
              "      <td>65.0</td>\n",
              "      <td>Technology</td>\n",
              "      <td>365</td>\n",
              "    </tr>\n",
              "    <tr>\n",
              "      <th>2</th>\n",
              "      <td>Mark Zuckerberg</td>\n",
              "      <td>$97 B</td>\n",
              "      <td>United States</td>\n",
              "      <td>Facebook</td>\n",
              "      <td>5</td>\n",
              "      <td>36.0</td>\n",
              "      <td>Technology</td>\n",
              "      <td>365</td>\n",
              "    </tr>\n",
              "    <tr>\n",
              "      <th>3</th>\n",
              "      <td>Larry Ellison</td>\n",
              "      <td>$93 B</td>\n",
              "      <td>United States</td>\n",
              "      <td>software</td>\n",
              "      <td>7</td>\n",
              "      <td>76.0</td>\n",
              "      <td>Technology</td>\n",
              "      <td>365</td>\n",
              "    </tr>\n",
              "    <tr>\n",
              "      <th>4</th>\n",
              "      <td>Larry Page</td>\n",
              "      <td>$91.5 B</td>\n",
              "      <td>United States</td>\n",
              "      <td>Google</td>\n",
              "      <td>8</td>\n",
              "      <td>48.0</td>\n",
              "      <td>Technology</td>\n",
              "      <td>365</td>\n",
              "    </tr>\n",
              "    <tr>\n",
              "      <th>...</th>\n",
              "      <td>...</td>\n",
              "      <td>...</td>\n",
              "      <td>...</td>\n",
              "      <td>...</td>\n",
              "      <td>...</td>\n",
              "      <td>...</td>\n",
              "      <td>...</td>\n",
              "      <td>...</td>\n",
              "    </tr>\n",
              "    <tr>\n",
              "      <th>2750</th>\n",
              "      <td>Jerry Reinsdorf</td>\n",
              "      <td>$1.7 B</td>\n",
              "      <td>United States</td>\n",
              "      <td>sports teams</td>\n",
              "      <td>1833</td>\n",
              "      <td>85.0</td>\n",
              "      <td>Sports</td>\n",
              "      <td>24</td>\n",
              "    </tr>\n",
              "    <tr>\n",
              "      <th>2751</th>\n",
              "      <td>Michael Jordan</td>\n",
              "      <td>$1.6 B</td>\n",
              "      <td>United States</td>\n",
              "      <td>Charlotte Hornets, endorsements</td>\n",
              "      <td>1931</td>\n",
              "      <td>58.0</td>\n",
              "      <td>Sports</td>\n",
              "      <td>24</td>\n",
              "    </tr>\n",
              "    <tr>\n",
              "      <th>2752</th>\n",
              "      <td>Jim Crane</td>\n",
              "      <td>$1.4 B</td>\n",
              "      <td>United States</td>\n",
              "      <td>logistics, baseball</td>\n",
              "      <td>2141</td>\n",
              "      <td>67.0</td>\n",
              "      <td>Sports</td>\n",
              "      <td>24</td>\n",
              "    </tr>\n",
              "    <tr>\n",
              "      <th>2753</th>\n",
              "      <td>Theodore Leonsis</td>\n",
              "      <td>$1.4 B</td>\n",
              "      <td>United States</td>\n",
              "      <td>sports teams</td>\n",
              "      <td>2141</td>\n",
              "      <td>65.0</td>\n",
              "      <td>Sports</td>\n",
              "      <td>24</td>\n",
              "    </tr>\n",
              "    <tr>\n",
              "      <th>2754</th>\n",
              "      <td>Joe Lacob</td>\n",
              "      <td>$1.2 B</td>\n",
              "      <td>United States</td>\n",
              "      <td>Golden State Warriors</td>\n",
              "      <td>2378</td>\n",
              "      <td>65.0</td>\n",
              "      <td>Sports</td>\n",
              "      <td>24</td>\n",
              "    </tr>\n",
              "  </tbody>\n",
              "</table>\n",
              "<p>2676 rows × 8 columns</p>\n",
              "</div>"
            ],
            "text/plain": [
              "                  Name NetWorth        Country  ...   Age    Industry  counts\n",
              "0           Jeff Bezos   $177 B  United States  ...  57.0  Technology     365\n",
              "1           Bill Gates   $124 B  United States  ...  65.0  Technology     365\n",
              "2      Mark Zuckerberg    $97 B  United States  ...  36.0  Technology     365\n",
              "3        Larry Ellison    $93 B  United States  ...  76.0  Technology     365\n",
              "4           Larry Page  $91.5 B  United States  ...  48.0  Technology     365\n",
              "...                ...      ...            ...  ...   ...         ...     ...\n",
              "2750   Jerry Reinsdorf   $1.7 B  United States  ...  85.0      Sports      24\n",
              "2751    Michael Jordan   $1.6 B  United States  ...  58.0      Sports      24\n",
              "2752         Jim Crane   $1.4 B  United States  ...  67.0      Sports      24\n",
              "2753  Theodore Leonsis   $1.4 B  United States  ...  65.0      Sports      24\n",
              "2754         Joe Lacob   $1.2 B  United States  ...  65.0      Sports      24\n",
              "\n",
              "[2676 rows x 8 columns]"
            ]
          },
          "metadata": {},
          "execution_count": 89
        }
      ]
    },
    {
      "cell_type": "code",
      "source": [
        "more_than_3_df[\"NetWorth\"] = more_than_3_df[\"NetWorth\"].str.replace('$','') # cleaning the data\n",
        "more_than_3_df[\"NetWorth\"] = more_than_3_df[\"NetWorth\"].str.replace('B','') # cleaning the data\n",
        "more_than_3_df[\"NetWorth\"] = pd.to_numeric(more_than_3_df[\"NetWorth\"]) # converting str to float\n",
        "more_than_3_df[\"Age\"] = pd.to_numeric(more_than_3_df[\"Age\"]) # converting str to float\n",
        "\n",
        "corr, _ = pearsonr(more_than_3_df['NetWorth'], more_than_3_df['Age'])\n",
        "print('Pearsons correlation: %.3f' % corr)"
      ],
      "metadata": {
        "colab": {
          "base_uri": "https://localhost:8080/"
        },
        "id": "op_qW6iEyEh9",
        "outputId": "e6c6637e-e374-4769-9269-59057052617e"
      },
      "execution_count": 90,
      "outputs": [
        {
          "output_type": "stream",
          "name": "stdout",
          "text": [
            "Pearsons correlation: 0.034\n"
          ]
        }
      ]
    },
    {
      "cell_type": "markdown",
      "source": [
        "## Question 3: Part 2"
      ],
      "metadata": {
        "id": "oxofzD-bHHQQ"
      }
    },
    {
      "cell_type": "code",
      "source": [
        "plt.scatter(more_than_3_df['Age'], more_than_3_df['NetWorth'])\n",
        "plt.xlabel(\"Age\")\n",
        "plt.ylabel(\"NetWorth\")\n",
        "plt.xlim(0,100) # the graph without annomalys"
      ],
      "metadata": {
        "colab": {
          "base_uri": "https://localhost:8080/",
          "height": 296
        },
        "id": "B9eDOCIjnN-7",
        "outputId": "99a1fbf7-2415-45e7-abb7-ef4b3be4294e"
      },
      "execution_count": 122,
      "outputs": [
        {
          "output_type": "execute_result",
          "data": {
            "text/plain": [
              "(0.0, 100.0)"
            ]
          },
          "metadata": {},
          "execution_count": 122
        },
        {
          "output_type": "display_data",
          "data": {
            "image/png": "[encoded data removed]",
            "text/plain": [
              "<Figure size 432x288 with 1 Axes>"
            ]
          },
          "metadata": {
            "needs_background": "light"
          }
        }
      ]
    },
    {
      "cell_type": "markdown",
      "source": [
        "**As we saw in Question 3 part 1, the correlation is 0.034(which means there's almost no connection between the age of the billionare and his networth) and it shows on the scatter plot**"
      ],
      "metadata": {
        "id": "7SRxEkZKnoJy"
      }
    }
  ]
}