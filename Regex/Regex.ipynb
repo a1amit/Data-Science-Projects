{
  "nbformat": 4,
  "nbformat_minor": 0,
  "metadata": {
    "colab": {
      "name": "Assignement 5_318969045_212066260.ipynb",
      "provenance": [],
      "collapsed_sections": []
    },
    "kernelspec": {
      "name": "python3",
      "display_name": "Python 3"
    },
    "language_info": {
      "name": "python"
    }
  },
  "cells": [
    {
      "cell_type": "markdown",
      "metadata": {
        "id": "OmpsGX3ralxb"
      },
      "source": [
        "**מגישים: עמית אברמוביץ -318969045 , מאג'ד נאטור: 212066260**"
      ]
    },
    {
      "cell_type": "markdown",
      "metadata": {
        "id": "CQUak3Pr2f0d"
      },
      "source": [
        "## 0. Setting the kaggle API And downloading the dataset "
      ]
    },
    {
      "cell_type": "code",
      "metadata": {
        "colab": {
          "base_uri": "https://localhost:8080/"
        },
        "id": "U3xnjsbm1AeW",
        "outputId": "79be612f-9a36-4f65-d7a1-5e7b28767ee8"
      },
      "source": [
        "import json\n",
        "import os\n",
        "\n",
        "# Installing the Kaggle package\n",
        "!pip install kaggle \n",
        "\n",
        "!mkdir /root/.kaggle/ \n",
        "\n",
        "#Important Note: complete this with your own key - after running this for the first time remmember to **remove** your API_KEY\n",
        "api_token = {\"username\":\"<>\",\"key\":\"<>\"}\n",
        "\n",
        "\n",
        "# creating kaggle.json file with the personal API-Key details \n",
        "# You can also put this file on your Google Drive\n",
        "with open('/root/.kaggle/kaggle.json', 'w') as file:\n",
        "  json.dump(api_token, file)\n",
        "!chmod 600 /root/.kaggle/kaggle.json"
      ],
      "execution_count": null,
      "outputs": [
        {
          "output_type": "stream",
          "name": "stdout",
          "text": [
            "Requirement already satisfied: kaggle in /usr/local/lib/python3.7/dist-packages (1.5.12)\n",
            "Requirement already satisfied: certifi in /usr/local/lib/python3.7/dist-packages (from kaggle) (2021.10.8)\n",
            "Requirement already satisfied: requests in /usr/local/lib/python3.7/dist-packages (from kaggle) (2.23.0)\n",
            "Requirement already satisfied: urllib3 in /usr/local/lib/python3.7/dist-packages (from kaggle) (1.24.3)\n",
            "Requirement already satisfied: python-dateutil in /usr/local/lib/python3.7/dist-packages (from kaggle) (2.8.2)\n",
            "Requirement already satisfied: six>=1.10 in /usr/local/lib/python3.7/dist-packages (from kaggle) (1.15.0)\n",
            "Requirement already satisfied: python-slugify in /usr/local/lib/python3.7/dist-packages (from kaggle) (5.0.2)\n",
            "Requirement already satisfied: tqdm in /usr/local/lib/python3.7/dist-packages (from kaggle) (4.62.3)\n",
            "Requirement already satisfied: text-unidecode>=1.3 in /usr/local/lib/python3.7/dist-packages (from python-slugify->kaggle) (1.3)\n",
            "Requirement already satisfied: chardet<4,>=3.0.2 in /usr/local/lib/python3.7/dist-packages (from requests->kaggle) (3.0.4)\n",
            "Requirement already satisfied: idna<3,>=2.5 in /usr/local/lib/python3.7/dist-packages (from requests->kaggle) (2.10)\n"
          ]
        }
      ]
    },
    {
      "cell_type": "code",
      "metadata": {
        "colab": {
          "base_uri": "https://localhost:8080/"
        },
        "id": "gIeIb3Ra4XUV",
        "outputId": "8a6f9948-31b7-4353-baf2-38e4498ba68a"
      },
      "source": [
        "# Creating a dataset directory\n",
        "!mkdir ./datasets\n",
        "!mkdir ./datasets/Blog-Authorship-Corpus\n",
        "\n",
        "# download the dataset from Kaggle and unzip it\n",
        "!kaggle datasets download rtatman/blog-authorship-corpus -p ./datasets/Blog-Authorship-Corpus/\n",
        "!chdir ./datasets/Blog-Authorship-Corpus\n",
        "!unzip ./datasets/Blog-Authorship-Corpus/*.zip  -d ./datasets/Blog-Authorship-Corpus/\n",
        "!ls ./datasets/Blog-Authorship-Corpus"
      ],
      "execution_count": null,
      "outputs": [
        {
          "output_type": "stream",
          "name": "stdout",
          "text": [
            "mkdir: cannot create directory ‘./datasets’: File exists\n",
            "mkdir: cannot create directory ‘./datasets/Blog-Authorship-Corpus’: File exists\n",
            "blog-authorship-corpus.zip: Skipping, found more recently modified local copy (use --force to force download)\n",
            "/bin/bash: chdir: command not found\n",
            "Archive:  ./datasets/Blog-Authorship-Corpus/blog-authorship-corpus.zip\n",
            "replace ./datasets/Blog-Authorship-Corpus/blogtext.csv? [y]es, [n]o, [A]ll, [N]one, [r]ename: N\n",
            "blog-authorship-corpus.zip  blogtext.csv\n"
          ]
        }
      ]
    },
    {
      "cell_type": "code",
      "metadata": {
        "colab": {
          "base_uri": "https://localhost:8080/"
        },
        "id": "8UMhW4RkbBbR",
        "outputId": "3d4b3572-9deb-4b16-8c40-1c993d9c45eb"
      },
      "source": [
        "# searching for the dataset\n",
        "!kaggle datasets list -s ufo"
      ],
      "execution_count": null,
      "outputs": [
        {
          "output_type": "stream",
          "name": "stdout",
          "text": [
            "Warning: Looks like you're using an outdated API Version, please consider updating (server 1.5.12 / client 1.5.4)\n",
            "ref                                                            title                                              size  lastUpdated          downloadCount  \n",
            "-------------------------------------------------------------  ------------------------------------------------  -----  -------------------  -------------  \n",
            "NUFORC/ufo-sightings                                           UFO Sightings                                      10MB  2019-11-13 19:45:57          26492  \n",
            "camnugent/ufo-sightings-around-the-world                       UFO Sightings around the world                      5MB  2017-08-15 15:46:17           2730  \n",
            "rishidamarla/ufo-sightings-approx-100000                       UFO Sightings (Approx. 90,000)                     38MB  2021-05-15 03:12:43            420  \n",
            "mysarahmadbhat/ufo-sightings                                   UFO Sightings                                       5MB  2021-08-09 17:19:17            128  \n",
            "thaddeussegura/ufo-sightings                                   ufo_sightings                                       7MB  2020-08-11 16:38:41            163  \n",
            "salmanfaroz/ufo-sightings-in-the-us                            UFO Sightings in the US                            35KB  2020-08-20 18:31:59            249  \n",
            "fireballbyedimyrnmom/ufo-sightings-1969-to-2019                UFO sightings 1969 to 2019                         75MB  2020-12-04 21:02:42            150  \n",
            "emorelli/consolidated-ufo-weather-data                         Consolidated UFO and Weather Data                   4MB  2018-05-16 20:06:50            642  \n",
            "leogenzano/clean-data-ufo                                      Clean Data UFO                                      5MB  2020-10-22 17:13:05             38  \n",
            "dwarika/ufo-datasets-the-truth-is-out-there                    UFO datasets, the truth is out there...           743KB  2020-12-28 13:04:54             59  \n",
            "chandlerkaiden/ufo-data-nuforc                                 UFO Data - NUFORC                                   5MB  2021-11-22 16:21:25             22  \n",
            "karenfisher/updated-nuforc-ufo-sightings-dataset               Updated NUFORC UFO Sightings Dataset                3MB  2020-05-23 03:45:48             80  \n",
            "petrslamnk/ufo-sightings                                       UFO Sightings                                       5MB  2021-02-06 09:07:04             14  \n",
            "emohamed/ufo-sighting-full-description                         UFO_sighting_full_description                      37MB  2020-11-26 16:34:19             55  \n",
            "cavalryjim/ufo-sightings                                       ufo_sightings                                     195KB  2020-08-11 22:13:47             41  \n",
            "muhakabartay/production-cross-sections-of-inert-doublet-model  Production cross sections of Inert Doublet Model    3MB  2020-07-10 21:26:22             70  \n",
            "blunderfist/ufo-sightings                                      UFO sightings                                       6MB  2021-09-28 15:49:00              1  \n",
            "ajayrana/ufo-reports                                           ufo_reports                                       195KB  2017-11-04 12:43:02            286  \n",
            "hassanashfaq2001/ufo-dataset                                   UFO Dataset                                       356KB  2021-07-31 11:22:36              2  \n",
            "akashdutta5/ufo-sightings                                      UFO sightings                                     239KB  2020-10-28 08:24:41             20  \n"
          ]
        }
      ]
    },
    {
      "cell_type": "code",
      "metadata": {
        "colab": {
          "base_uri": "https://localhost:8080/"
        },
        "id": "X_-Cm2wgbfqV",
        "outputId": "0075125b-8822-47c7-951e-9d12a47d0295"
      },
      "source": [
        "# Creating a dataset directory\n",
        "!mkdir ./datasets\n",
        "!mkdir ./datasets/UFO-SIGHTINGS\n",
        "\n",
        "# download the dataset from Kaggle and unzip it\n",
        "!kaggle datasets download NUFORC/ufo-sightings -p ./datasets/UFO-SIGHTINGS/\n",
        "!chdir ./datasets/UFO-SIGHTINGS\n",
        "!unzip ./datasets/ufo-sightings/*.zip  -d ./datasets/UFO-SIGHTINGS/\n",
        "!ls ./datasets/UFO-SIGHTINGS"
      ],
      "execution_count": null,
      "outputs": [
        {
          "output_type": "stream",
          "name": "stdout",
          "text": [
            "mkdir: cannot create directory ‘./datasets’: File exists\n",
            "mkdir: cannot create directory ‘./datasets/UFO-SIGHTINGS’: File exists\n",
            "ufo-sightings.zip: Skipping, found more recently modified local copy (use --force to force download)\n",
            "/bin/bash: chdir: command not found\n",
            "unzip:  cannot find or open ./datasets/ufo-sightings/*.zip, ./datasets/ufo-sightings/*.zip.zip or ./datasets/ufo-sightings/*.zip.ZIP.\n",
            "\n",
            "No zipfiles found.\n",
            "ufo-sightings.zip\n"
          ]
        }
      ]
    },
    {
      "cell_type": "markdown",
      "metadata": {
        "id": "9DMpxtXL5FO3"
      },
      "source": [
        "## Question 1: Part 1:"
      ]
    },
    {
      "cell_type": "code",
      "metadata": {
        "id": "YDK0fEk15V42"
      },
      "source": [
        "import pandas as pd\n",
        "import numpy as np\n",
        "import re"
      ],
      "execution_count": null,
      "outputs": []
    },
    {
      "cell_type": "code",
      "metadata": {
        "id": "ucBqu5PB_OGE"
      },
      "source": [
        "df = pd.read_csv('./datasets/Blog-Authorship-Corpus/blogtext.csv')\n",
        "df"
      ],
      "execution_count": null,
      "outputs": []
    },
    {
      "cell_type": "code",
      "metadata": {
        "colab": {
          "base_uri": "https://localhost:8080/",
          "height": 112
        },
        "id": "cyV2Sstv5K9h",
        "outputId": "b430e182-2187-4f45-c39f-a54e0a752678"
      },
      "source": [
        "length = re.compile(\"(\\w{8,})\")\n",
        "\n",
        "df['EightWordsPlus'] = df[\"text\"].apply(lambda x: len((length.findall(x))))\n",
        "\n",
        "sign_df = df[[\"sign\",\"EightWordsPlus\"]].groupby('sign').sum()\n",
        "sign_df[sign_df['EightWordsPlus'] == sign_df['EightWordsPlus'].max()]"
      ],
      "execution_count": null,
      "outputs": [
        {
          "output_type": "execute_result",
          "data": {
            "text/html": [
              "<div>\n",
              "<style scoped>\n",
              "    .dataframe tbody tr th:only-of-type {\n",
              "        vertical-align: middle;\n",
              "    }\n",
              "\n",
              "    .dataframe tbody tr th {\n",
              "        vertical-align: top;\n",
              "    }\n",
              "\n",
              "    .dataframe thead th {\n",
              "        text-align: right;\n",
              "    }\n",
              "</style>\n",
              "<table border=\"1\" class=\"dataframe\">\n",
              "  <thead>\n",
              "    <tr style=\"text-align: right;\">\n",
              "      <th></th>\n",
              "      <th>EightWordsPlus</th>\n",
              "    </tr>\n",
              "    <tr>\n",
              "      <th>sign</th>\n",
              "      <th></th>\n",
              "    </tr>\n",
              "  </thead>\n",
              "  <tbody>\n",
              "    <tr>\n",
              "      <th>Cancer</th>\n",
              "      <td>1149394</td>\n",
              "    </tr>\n",
              "  </tbody>\n",
              "</table>\n",
              "</div>"
            ],
            "text/plain": [
              "        EightWordsPlus\n",
              "sign                  \n",
              "Cancer         1149394"
            ]
          },
          "metadata": {},
          "execution_count": 51
        }
      ]
    },
    {
      "cell_type": "markdown",
      "metadata": {
        "id": "Eipinv91PfvA"
      },
      "source": [
        "## Question 1: Part 2:"
      ]
    },
    {
      "cell_type": "code",
      "metadata": {
        "id": "cM0daBiEPoXh"
      },
      "source": [
        "df = pd.read_csv('./datasets/Blog-Authorship-Corpus/blogtext.csv')\n",
        "df"
      ],
      "execution_count": null,
      "outputs": []
    },
    {
      "cell_type": "code",
      "metadata": {
        "id": "slbw_fj3Rt3J"
      },
      "source": [
        "def convert_to_date_template (df):\n",
        "  lis = [',January,', ',February,', ',March,', ',April,', ',May,', ',June,', ',July,', ',August,', ',September,', ',October,', ',November,', ',December,']\n",
        "  for i in lis:\n",
        "    if i in str(df):\n",
        "\n",
        "     return str(df).replace('[','').replace(']','') \n",
        "  \n",
        "  return None"
      ],
      "execution_count": null,
      "outputs": []
    },
    {
      "cell_type": "code",
      "metadata": {
        "colab": {
          "base_uri": "https://localhost:8080/",
          "height": 632
        },
        "id": "JjD5_M5GQkSv",
        "outputId": "1712b9c4-a3c3-4980-9a89-61e86403f1a9"
      },
      "source": [
        "from datetime import datetime as dt \n",
        "day = df[['date']]\n",
        "day['day'] = day['date'].apply(lambda x: convert_to_date_template(x))\n",
        "day['day'] = pd.to_datetime(day['day'])\n",
        "day['day'] = day['day'].dt.dayofweek\n",
        "\n",
        "days_df=day.groupby('day').count()\n",
        "days_df"
      ],
      "execution_count": null,
      "outputs": [
        {
          "output_type": "stream",
          "name": "stderr",
          "text": [
            "/usr/local/lib/python3.7/dist-packages/ipykernel_launcher.py:3: SettingWithCopyWarning: \n",
            "A value is trying to be set on a copy of a slice from a DataFrame.\n",
            "Try using .loc[row_indexer,col_indexer] = value instead\n",
            "\n",
            "See the caveats in the documentation: https://pandas.pydata.org/pandas-docs/stable/user_guide/indexing.html#returning-a-view-versus-a-copy\n",
            "  This is separate from the ipykernel package so we can avoid doing imports until\n",
            "/usr/local/lib/python3.7/dist-packages/ipykernel_launcher.py:4: SettingWithCopyWarning: \n",
            "A value is trying to be set on a copy of a slice from a DataFrame.\n",
            "Try using .loc[row_indexer,col_indexer] = value instead\n",
            "\n",
            "See the caveats in the documentation: https://pandas.pydata.org/pandas-docs/stable/user_guide/indexing.html#returning-a-view-versus-a-copy\n",
            "  after removing the cwd from sys.path.\n",
            "/usr/local/lib/python3.7/dist-packages/ipykernel_launcher.py:5: SettingWithCopyWarning: \n",
            "A value is trying to be set on a copy of a slice from a DataFrame.\n",
            "Try using .loc[row_indexer,col_indexer] = value instead\n",
            "\n",
            "See the caveats in the documentation: https://pandas.pydata.org/pandas-docs/stable/user_guide/indexing.html#returning-a-view-versus-a-copy\n",
            "  \"\"\"\n"
          ]
        },
        {
          "output_type": "execute_result",
          "data": {
            "text/html": [
              "<div>\n",
              "<style scoped>\n",
              "    .dataframe tbody tr th:only-of-type {\n",
              "        vertical-align: middle;\n",
              "    }\n",
              "\n",
              "    .dataframe tbody tr th {\n",
              "        vertical-align: top;\n",
              "    }\n",
              "\n",
              "    .dataframe thead th {\n",
              "        text-align: right;\n",
              "    }\n",
              "</style>\n",
              "<table border=\"1\" class=\"dataframe\">\n",
              "  <thead>\n",
              "    <tr style=\"text-align: right;\">\n",
              "      <th></th>\n",
              "      <th>date</th>\n",
              "    </tr>\n",
              "    <tr>\n",
              "      <th>day</th>\n",
              "      <th></th>\n",
              "    </tr>\n",
              "  </thead>\n",
              "  <tbody>\n",
              "    <tr>\n",
              "      <th>0.0</th>\n",
              "      <td>115285</td>\n",
              "    </tr>\n",
              "    <tr>\n",
              "      <th>1.0</th>\n",
              "      <td>110228</td>\n",
              "    </tr>\n",
              "    <tr>\n",
              "      <th>2.0</th>\n",
              "      <td>100154</td>\n",
              "    </tr>\n",
              "    <tr>\n",
              "      <th>3.0</th>\n",
              "      <td>104727</td>\n",
              "    </tr>\n",
              "    <tr>\n",
              "      <th>4.0</th>\n",
              "      <td>85934</td>\n",
              "    </tr>\n",
              "    <tr>\n",
              "      <th>5.0</th>\n",
              "      <td>64213</td>\n",
              "    </tr>\n",
              "    <tr>\n",
              "      <th>6.0</th>\n",
              "      <td>92799</td>\n",
              "    </tr>\n",
              "  </tbody>\n",
              "</table>\n",
              "</div>"
            ],
            "text/plain": [
              "       date\n",
              "day        \n",
              "0.0  115285\n",
              "1.0  110228\n",
              "2.0  100154\n",
              "3.0  104727\n",
              "4.0   85934\n",
              "5.0   64213\n",
              "6.0   92799"
            ]
          },
          "metadata": {},
          "execution_count": 112
        }
      ]
    },
    {
      "cell_type": "markdown",
      "metadata": {
        "id": "wxcHNnNgabMJ"
      },
      "source": [
        "## Question 1: Part 3:"
      ]
    },
    {
      "cell_type": "code",
      "metadata": {
        "id": "fSXVcZtRae6f"
      },
      "source": [
        "df = pd.read_csv('./datasets/Blog-Authorship-Corpus/blogtext.csv')\n",
        "df"
      ],
      "execution_count": null,
      "outputs": []
    },
    {
      "cell_type": "code",
      "metadata": {
        "colab": {
          "base_uri": "https://localhost:8080/",
          "height": 1000
        },
        "id": "WLlHP_Blaodd",
        "outputId": "dbdadf82-a0a6-4256-ecc1-a6068fc999b6"
      },
      "source": [
        "emails_regex = re.compile(r'\\b[A-Za-z0-9._%+-]+@[A-Za-z0-9.-]+\\.[A-Z|a-z]{2,}\\b')\n",
        "legal_mails = df[['topic','text']]\n",
        "legal_mails ['email_count'] = legal_mails[\"text\"].apply(lambda x: len((emails_regex.findall(x))))\n",
        "\n",
        "\n",
        "legal_mails = legal_mails.groupby('topic').sum()\n",
        "legal_mails"
      ],
      "execution_count": null,
      "outputs": [
        {
          "output_type": "stream",
          "name": "stderr",
          "text": [
            "/usr/local/lib/python3.7/dist-packages/ipykernel_launcher.py:3: SettingWithCopyWarning: \n",
            "A value is trying to be set on a copy of a slice from a DataFrame.\n",
            "Try using .loc[row_indexer,col_indexer] = value instead\n",
            "\n",
            "See the caveats in the documentation: https://pandas.pydata.org/pandas-docs/stable/user_guide/indexing.html#returning-a-view-versus-a-copy\n",
            "  This is separate from the ipykernel package so we can avoid doing imports until\n"
          ]
        },
        {
          "output_type": "execute_result",
          "data": {
            "text/html": [
              "<div>\n",
              "<style scoped>\n",
              "    .dataframe tbody tr th:only-of-type {\n",
              "        vertical-align: middle;\n",
              "    }\n",
              "\n",
              "    .dataframe tbody tr th {\n",
              "        vertical-align: top;\n",
              "    }\n",
              "\n",
              "    .dataframe thead th {\n",
              "        text-align: right;\n",
              "    }\n",
              "</style>\n",
              "<table border=\"1\" class=\"dataframe\">\n",
              "  <thead>\n",
              "    <tr style=\"text-align: right;\">\n",
              "      <th></th>\n",
              "      <th>email_count</th>\n",
              "    </tr>\n",
              "    <tr>\n",
              "      <th>topic</th>\n",
              "      <th></th>\n",
              "    </tr>\n",
              "  </thead>\n",
              "  <tbody>\n",
              "    <tr>\n",
              "      <th>Accounting</th>\n",
              "      <td>34</td>\n",
              "    </tr>\n",
              "    <tr>\n",
              "      <th>Advertising</th>\n",
              "      <td>36</td>\n",
              "    </tr>\n",
              "    <tr>\n",
              "      <th>Agriculture</th>\n",
              "      <td>3</td>\n",
              "    </tr>\n",
              "    <tr>\n",
              "      <th>Architecture</th>\n",
              "      <td>33</td>\n",
              "    </tr>\n",
              "    <tr>\n",
              "      <th>Arts</th>\n",
              "      <td>265</td>\n",
              "    </tr>\n",
              "    <tr>\n",
              "      <th>Automotive</th>\n",
              "      <td>5</td>\n",
              "    </tr>\n",
              "    <tr>\n",
              "      <th>Banking</th>\n",
              "      <td>25</td>\n",
              "    </tr>\n",
              "    <tr>\n",
              "      <th>Biotech</th>\n",
              "      <td>78</td>\n",
              "    </tr>\n",
              "    <tr>\n",
              "      <th>BusinessServices</th>\n",
              "      <td>73</td>\n",
              "    </tr>\n",
              "    <tr>\n",
              "      <th>Chemicals</th>\n",
              "      <td>32</td>\n",
              "    </tr>\n",
              "    <tr>\n",
              "      <th>Communications-Media</th>\n",
              "      <td>327</td>\n",
              "    </tr>\n",
              "    <tr>\n",
              "      <th>Construction</th>\n",
              "      <td>17</td>\n",
              "    </tr>\n",
              "    <tr>\n",
              "      <th>Consulting</th>\n",
              "      <td>74</td>\n",
              "    </tr>\n",
              "    <tr>\n",
              "      <th>Education</th>\n",
              "      <td>321</td>\n",
              "    </tr>\n",
              "    <tr>\n",
              "      <th>Engineering</th>\n",
              "      <td>83</td>\n",
              "    </tr>\n",
              "    <tr>\n",
              "      <th>Environment</th>\n",
              "      <td>2</td>\n",
              "    </tr>\n",
              "    <tr>\n",
              "      <th>Fashion</th>\n",
              "      <td>19</td>\n",
              "    </tr>\n",
              "    <tr>\n",
              "      <th>Government</th>\n",
              "      <td>41</td>\n",
              "    </tr>\n",
              "    <tr>\n",
              "      <th>HumanResources</th>\n",
              "      <td>26</td>\n",
              "    </tr>\n",
              "    <tr>\n",
              "      <th>Internet</th>\n",
              "      <td>388</td>\n",
              "    </tr>\n",
              "    <tr>\n",
              "      <th>InvestmentBanking</th>\n",
              "      <td>0</td>\n",
              "    </tr>\n",
              "    <tr>\n",
              "      <th>Law</th>\n",
              "      <td>49</td>\n",
              "    </tr>\n",
              "    <tr>\n",
              "      <th>LawEnforcement-Security</th>\n",
              "      <td>18</td>\n",
              "    </tr>\n",
              "    <tr>\n",
              "      <th>Manufacturing</th>\n",
              "      <td>7</td>\n",
              "    </tr>\n",
              "    <tr>\n",
              "      <th>Maritime</th>\n",
              "      <td>4</td>\n",
              "    </tr>\n",
              "    <tr>\n",
              "      <th>Marketing</th>\n",
              "      <td>65</td>\n",
              "    </tr>\n",
              "    <tr>\n",
              "      <th>Military</th>\n",
              "      <td>17</td>\n",
              "    </tr>\n",
              "    <tr>\n",
              "      <th>Museums-Libraries</th>\n",
              "      <td>33</td>\n",
              "    </tr>\n",
              "    <tr>\n",
              "      <th>Non-Profit</th>\n",
              "      <td>467</td>\n",
              "    </tr>\n",
              "    <tr>\n",
              "      <th>Publishing</th>\n",
              "      <td>84</td>\n",
              "    </tr>\n",
              "    <tr>\n",
              "      <th>RealEstate</th>\n",
              "      <td>15</td>\n",
              "    </tr>\n",
              "    <tr>\n",
              "      <th>Religion</th>\n",
              "      <td>46</td>\n",
              "    </tr>\n",
              "    <tr>\n",
              "      <th>Science</th>\n",
              "      <td>79</td>\n",
              "    </tr>\n",
              "    <tr>\n",
              "      <th>Sports-Recreation</th>\n",
              "      <td>31</td>\n",
              "    </tr>\n",
              "    <tr>\n",
              "      <th>Student</th>\n",
              "      <td>1110</td>\n",
              "    </tr>\n",
              "    <tr>\n",
              "      <th>Technology</th>\n",
              "      <td>285</td>\n",
              "    </tr>\n",
              "    <tr>\n",
              "      <th>Telecommunications</th>\n",
              "      <td>42</td>\n",
              "    </tr>\n",
              "    <tr>\n",
              "      <th>Tourism</th>\n",
              "      <td>22</td>\n",
              "    </tr>\n",
              "    <tr>\n",
              "      <th>Transportation</th>\n",
              "      <td>12</td>\n",
              "    </tr>\n",
              "    <tr>\n",
              "      <th>indUnk</th>\n",
              "      <td>2000</td>\n",
              "    </tr>\n",
              "  </tbody>\n",
              "</table>\n",
              "</div>"
            ],
            "text/plain": [
              "                         email_count\n",
              "topic                               \n",
              "Accounting                        34\n",
              "Advertising                       36\n",
              "Agriculture                        3\n",
              "Architecture                      33\n",
              "Arts                             265\n",
              "Automotive                         5\n",
              "Banking                           25\n",
              "Biotech                           78\n",
              "BusinessServices                  73\n",
              "Chemicals                         32\n",
              "Communications-Media             327\n",
              "Construction                      17\n",
              "Consulting                        74\n",
              "Education                        321\n",
              "Engineering                       83\n",
              "Environment                        2\n",
              "Fashion                           19\n",
              "Government                        41\n",
              "HumanResources                    26\n",
              "Internet                         388\n",
              "InvestmentBanking                  0\n",
              "Law                               49\n",
              "LawEnforcement-Security           18\n",
              "Manufacturing                      7\n",
              "Maritime                           4\n",
              "Marketing                         65\n",
              "Military                          17\n",
              "Museums-Libraries                 33\n",
              "Non-Profit                       467\n",
              "Publishing                        84\n",
              "RealEstate                        15\n",
              "Religion                          46\n",
              "Science                           79\n",
              "Sports-Recreation                 31\n",
              "Student                         1110\n",
              "Technology                       285\n",
              "Telecommunications                42\n",
              "Tourism                           22\n",
              "Transportation                    12\n",
              "indUnk                          2000"
            ]
          },
          "metadata": {},
          "execution_count": 115
        }
      ]
    },
    {
      "cell_type": "markdown",
      "metadata": {
        "id": "QrzaqZiFcC4Z"
      },
      "source": [
        "## Question 1: Part 4:"
      ]
    },
    {
      "cell_type": "code",
      "metadata": {
        "colab": {
          "base_uri": "https://localhost:8080/"
        },
        "id": "EdRLoW-Ov1nN",
        "outputId": "275ae500-36ba-4479-f69f-97e2a81af834"
      },
      "source": [
        "mails = \"bruh@gmail.com, as,dl,sad,sla,al , ,sad,dls,dls, bruh2@gmail.com\"\n",
        "\n",
        "bla = (lambda x: emails_regex.findall(x))\n",
        "bla(mails)"
      ],
      "execution_count": null,
      "outputs": [
        {
          "output_type": "execute_result",
          "data": {
            "text/plain": [
              "['bruh@gmail.com', 'bruh2@gmail.com']"
            ]
          },
          "metadata": {},
          "execution_count": 126
        }
      ]
    },
    {
      "cell_type": "code",
      "metadata": {
        "colab": {
          "base_uri": "https://localhost:8080/",
          "height": 98
        },
        "id": "VN72copQcEXL",
        "outputId": "d14532dd-50c7-49d6-a32a-b6bcc63fab68"
      },
      "source": [
        "df ['number_of_mails_in_blog'] = df[\"text\"].apply(lambda x: len((emails_regex.findall(x))))\n",
        "df.groupby(\"id\").sum()\n",
        "\n",
        "most_mails= (df[df['number_of_mails_in_blog'] == df['number_of_mails_in_blog'].max()]) # contains only the ids that posted the most mails\n",
        "\n",
        "print(\"the bloggers ids that most mail adresses were posted in thier blogs:\")\n",
        "most_mails[['id']]"
      ],
      "execution_count": null,
      "outputs": [
        {
          "output_type": "stream",
          "name": "stdout",
          "text": [
            "the bloggers ids that most mail adresses were posted in thier blogs:\n"
          ]
        },
        {
          "output_type": "execute_result",
          "data": {
            "text/html": [
              "<div>\n",
              "<style scoped>\n",
              "    .dataframe tbody tr th:only-of-type {\n",
              "        vertical-align: middle;\n",
              "    }\n",
              "\n",
              "    .dataframe tbody tr th {\n",
              "        vertical-align: top;\n",
              "    }\n",
              "\n",
              "    .dataframe thead th {\n",
              "        text-align: right;\n",
              "    }\n",
              "</style>\n",
              "<table border=\"1\" class=\"dataframe\">\n",
              "  <thead>\n",
              "    <tr style=\"text-align: right;\">\n",
              "      <th></th>\n",
              "      <th>id</th>\n",
              "    </tr>\n",
              "  </thead>\n",
              "  <tbody>\n",
              "    <tr>\n",
              "      <th>216959</th>\n",
              "      <td>1383289</td>\n",
              "    </tr>\n",
              "  </tbody>\n",
              "</table>\n",
              "</div>"
            ],
            "text/plain": [
              "             id\n",
              "216959  1383289"
            ]
          },
          "metadata": {},
          "execution_count": 130
        }
      ]
    },
    {
      "cell_type": "markdown",
      "metadata": {
        "id": "ZBVkFhSVlYaz"
      },
      "source": [
        "## Question 1: Part 5:"
      ]
    },
    {
      "cell_type": "code",
      "metadata": {
        "id": "WJDW75P2lZhe"
      },
      "source": [
        "def remove_comma(a: list):\n",
        "  for i in range(0,len(a)):\n",
        "     a[i]=len(a[i].replace(',','').replace('.',''))\n",
        "  if len(a)==0:\n",
        "    return 0 \n",
        "  else:\n",
        "    return max(a)"
      ],
      "execution_count": null,
      "outputs": []
    },
    {
      "cell_type": "code",
      "metadata": {
        "colab": {
          "base_uri": "https://localhost:8080/",
          "height": 333
        },
        "id": "5hRKJUxvlfEL",
        "outputId": "a4a7f5b7-b91d-4704-9a82-e2e0f04bac2c"
      },
      "source": [
        "import re\n",
        "numbers = re.compile('[\\d,.]+')\n",
        "\n",
        "num_df = df[['topic','text']]\n",
        "num_df['longest_num'] = num_df['text'].apply(lambda x: (numbers.findall(x)))\n",
        "num_df['longest_num']=num_df['longest_num'].apply(lambda x: remove_comma(x))\n",
        "\n",
        "answer_df=num_df.groupby('topic').max('longest_num')\n",
        "\n",
        "answer_df = answer_df[answer_df['longest_num']== answer_df['longest_num'].max()]\n",
        "\n",
        "answer_df"
      ],
      "execution_count": null,
      "outputs": [
        {
          "output_type": "stream",
          "name": "stderr",
          "text": [
            "/usr/local/lib/python3.7/dist-packages/ipykernel_launcher.py:5: SettingWithCopyWarning: \n",
            "A value is trying to be set on a copy of a slice from a DataFrame.\n",
            "Try using .loc[row_indexer,col_indexer] = value instead\n",
            "\n",
            "See the caveats in the documentation: https://pandas.pydata.org/pandas-docs/stable/user_guide/indexing.html#returning-a-view-versus-a-copy\n",
            "  \"\"\"\n",
            "/usr/local/lib/python3.7/dist-packages/ipykernel_launcher.py:6: SettingWithCopyWarning: \n",
            "A value is trying to be set on a copy of a slice from a DataFrame.\n",
            "Try using .loc[row_indexer,col_indexer] = value instead\n",
            "\n",
            "See the caveats in the documentation: https://pandas.pydata.org/pandas-docs/stable/user_guide/indexing.html#returning-a-view-versus-a-copy\n",
            "  \n"
          ]
        },
        {
          "output_type": "execute_result",
          "data": {
            "text/html": [
              "<div>\n",
              "<style scoped>\n",
              "    .dataframe tbody tr th:only-of-type {\n",
              "        vertical-align: middle;\n",
              "    }\n",
              "\n",
              "    .dataframe tbody tr th {\n",
              "        vertical-align: top;\n",
              "    }\n",
              "\n",
              "    .dataframe thead th {\n",
              "        text-align: right;\n",
              "    }\n",
              "</style>\n",
              "<table border=\"1\" class=\"dataframe\">\n",
              "  <thead>\n",
              "    <tr style=\"text-align: right;\">\n",
              "      <th></th>\n",
              "      <th>longest_num</th>\n",
              "    </tr>\n",
              "    <tr>\n",
              "      <th>topic</th>\n",
              "      <th></th>\n",
              "    </tr>\n",
              "  </thead>\n",
              "  <tbody>\n",
              "    <tr>\n",
              "      <th>Student</th>\n",
              "      <td>193</td>\n",
              "    </tr>\n",
              "  </tbody>\n",
              "</table>\n",
              "</div>"
            ],
            "text/plain": [
              "         longest_num\n",
              "topic               \n",
              "Student          193"
            ]
          },
          "metadata": {},
          "execution_count": 127
        }
      ]
    },
    {
      "cell_type": "markdown",
      "metadata": {
        "id": "Sb-VaqFlcuSE"
      },
      "source": [
        "# Question 2: Part 1"
      ]
    },
    {
      "cell_type": "code",
      "metadata": {
        "colab": {
          "base_uri": "https://localhost:8080/",
          "height": 1000
        },
        "id": "WY5b5Qz8GCYU",
        "outputId": "834b41cc-a439-418c-8698-144eb56f0aea"
      },
      "source": [
        "df = pd.read_csv('/content/scrubbed.csv')\n",
        "df"
      ],
      "execution_count": null,
      "outputs": [
        {
          "output_type": "stream",
          "name": "stderr",
          "text": [
            "/usr/local/lib/python3.7/dist-packages/IPython/core/interactiveshell.py:2718: DtypeWarning: Columns (5,9) have mixed types.Specify dtype option on import or set low_memory=False.\n",
            "  interactivity=interactivity, compiler=compiler, result=result)\n"
          ]
        },
        {
          "output_type": "execute_result",
          "data": {
            "text/html": [
              "<div>\n",
              "<style scoped>\n",
              "    .dataframe tbody tr th:only-of-type {\n",
              "        vertical-align: middle;\n",
              "    }\n",
              "\n",
              "    .dataframe tbody tr th {\n",
              "        vertical-align: top;\n",
              "    }\n",
              "\n",
              "    .dataframe thead th {\n",
              "        text-align: right;\n",
              "    }\n",
              "</style>\n",
              "<table border=\"1\" class=\"dataframe\">\n",
              "  <thead>\n",
              "    <tr style=\"text-align: right;\">\n",
              "      <th></th>\n",
              "      <th>datetime</th>\n",
              "      <th>city</th>\n",
              "      <th>state</th>\n",
              "      <th>country</th>\n",
              "      <th>shape</th>\n",
              "      <th>duration (seconds)</th>\n",
              "      <th>duration (hours/min)</th>\n",
              "      <th>comments</th>\n",
              "      <th>date posted</th>\n",
              "      <th>latitude</th>\n",
              "      <th>longitude</th>\n",
              "    </tr>\n",
              "  </thead>\n",
              "  <tbody>\n",
              "    <tr>\n",
              "      <th>0</th>\n",
              "      <td>10/10/1949 20:30</td>\n",
              "      <td>san marcos</td>\n",
              "      <td>tx</td>\n",
              "      <td>us</td>\n",
              "      <td>cylinder</td>\n",
              "      <td>2700</td>\n",
              "      <td>45 minutes</td>\n",
              "      <td>This event took place in early fall around 194...</td>\n",
              "      <td>4/27/2004</td>\n",
              "      <td>29.8830556</td>\n",
              "      <td>-97.941111</td>\n",
              "    </tr>\n",
              "    <tr>\n",
              "      <th>1</th>\n",
              "      <td>10/10/1949 21:00</td>\n",
              "      <td>lackland afb</td>\n",
              "      <td>tx</td>\n",
              "      <td>NaN</td>\n",
              "      <td>light</td>\n",
              "      <td>7200</td>\n",
              "      <td>1-2 hrs</td>\n",
              "      <td>1949 Lackland AFB&amp;#44 TX.  Lights racing acros...</td>\n",
              "      <td>12/16/2005</td>\n",
              "      <td>29.38421</td>\n",
              "      <td>-98.581082</td>\n",
              "    </tr>\n",
              "    <tr>\n",
              "      <th>2</th>\n",
              "      <td>10/10/1955 17:00</td>\n",
              "      <td>chester (uk/england)</td>\n",
              "      <td>NaN</td>\n",
              "      <td>gb</td>\n",
              "      <td>circle</td>\n",
              "      <td>20</td>\n",
              "      <td>20 seconds</td>\n",
              "      <td>Green/Orange circular disc over Chester&amp;#44 En...</td>\n",
              "      <td>1/21/2008</td>\n",
              "      <td>53.2</td>\n",
              "      <td>-2.916667</td>\n",
              "    </tr>\n",
              "    <tr>\n",
              "      <th>3</th>\n",
              "      <td>10/10/1956 21:00</td>\n",
              "      <td>edna</td>\n",
              "      <td>tx</td>\n",
              "      <td>us</td>\n",
              "      <td>circle</td>\n",
              "      <td>20</td>\n",
              "      <td>1/2 hour</td>\n",
              "      <td>My older brother and twin sister were leaving ...</td>\n",
              "      <td>1/17/2004</td>\n",
              "      <td>28.9783333</td>\n",
              "      <td>-96.645833</td>\n",
              "    </tr>\n",
              "    <tr>\n",
              "      <th>4</th>\n",
              "      <td>10/10/1960 20:00</td>\n",
              "      <td>kaneohe</td>\n",
              "      <td>hi</td>\n",
              "      <td>us</td>\n",
              "      <td>light</td>\n",
              "      <td>900</td>\n",
              "      <td>15 minutes</td>\n",
              "      <td>AS a Marine 1st Lt. flying an FJ4B fighter/att...</td>\n",
              "      <td>1/22/2004</td>\n",
              "      <td>21.4180556</td>\n",
              "      <td>-157.803611</td>\n",
              "    </tr>\n",
              "    <tr>\n",
              "      <th>...</th>\n",
              "      <td>...</td>\n",
              "      <td>...</td>\n",
              "      <td>...</td>\n",
              "      <td>...</td>\n",
              "      <td>...</td>\n",
              "      <td>...</td>\n",
              "      <td>...</td>\n",
              "      <td>...</td>\n",
              "      <td>...</td>\n",
              "      <td>...</td>\n",
              "      <td>...</td>\n",
              "    </tr>\n",
              "    <tr>\n",
              "      <th>80327</th>\n",
              "      <td>9/9/2013 21:15</td>\n",
              "      <td>nashville</td>\n",
              "      <td>tn</td>\n",
              "      <td>us</td>\n",
              "      <td>light</td>\n",
              "      <td>600</td>\n",
              "      <td>10 minutes</td>\n",
              "      <td>Round from the distance/slowly changing colors...</td>\n",
              "      <td>9/30/2013</td>\n",
              "      <td>36.1658</td>\n",
              "      <td>-86.784444</td>\n",
              "    </tr>\n",
              "    <tr>\n",
              "      <th>80328</th>\n",
              "      <td>9/9/2013 22:00</td>\n",
              "      <td>boise</td>\n",
              "      <td>id</td>\n",
              "      <td>us</td>\n",
              "      <td>circle</td>\n",
              "      <td>1200</td>\n",
              "      <td>20 minutes</td>\n",
              "      <td>Boise&amp;#44 ID&amp;#44 spherical&amp;#44 20 min&amp;#44 10 r...</td>\n",
              "      <td>9/30/2013</td>\n",
              "      <td>43.6136</td>\n",
              "      <td>-116.202500</td>\n",
              "    </tr>\n",
              "    <tr>\n",
              "      <th>80329</th>\n",
              "      <td>9/9/2013 22:00</td>\n",
              "      <td>napa</td>\n",
              "      <td>ca</td>\n",
              "      <td>us</td>\n",
              "      <td>other</td>\n",
              "      <td>1200</td>\n",
              "      <td>hour</td>\n",
              "      <td>Napa UFO&amp;#44</td>\n",
              "      <td>9/30/2013</td>\n",
              "      <td>38.2972</td>\n",
              "      <td>-122.284444</td>\n",
              "    </tr>\n",
              "    <tr>\n",
              "      <th>80330</th>\n",
              "      <td>9/9/2013 22:20</td>\n",
              "      <td>vienna</td>\n",
              "      <td>va</td>\n",
              "      <td>us</td>\n",
              "      <td>circle</td>\n",
              "      <td>5</td>\n",
              "      <td>5 seconds</td>\n",
              "      <td>Saw a five gold lit cicular craft moving fastl...</td>\n",
              "      <td>9/30/2013</td>\n",
              "      <td>38.9011</td>\n",
              "      <td>-77.265556</td>\n",
              "    </tr>\n",
              "    <tr>\n",
              "      <th>80331</th>\n",
              "      <td>9/9/2013 23:00</td>\n",
              "      <td>edmond</td>\n",
              "      <td>ok</td>\n",
              "      <td>us</td>\n",
              "      <td>cigar</td>\n",
              "      <td>1020</td>\n",
              "      <td>17 minutes</td>\n",
              "      <td>2 witnesses 2  miles apart&amp;#44 Red &amp;amp; White...</td>\n",
              "      <td>9/30/2013</td>\n",
              "      <td>35.6528</td>\n",
              "      <td>-97.477778</td>\n",
              "    </tr>\n",
              "  </tbody>\n",
              "</table>\n",
              "<p>80332 rows × 11 columns</p>\n",
              "</div>"
            ],
            "text/plain": [
              "               datetime                  city  ...    latitude  longitude \n",
              "0      10/10/1949 20:30            san marcos  ...  29.8830556  -97.941111\n",
              "1      10/10/1949 21:00          lackland afb  ...    29.38421  -98.581082\n",
              "2      10/10/1955 17:00  chester (uk/england)  ...        53.2   -2.916667\n",
              "3      10/10/1956 21:00                  edna  ...  28.9783333  -96.645833\n",
              "4      10/10/1960 20:00               kaneohe  ...  21.4180556 -157.803611\n",
              "...                 ...                   ...  ...         ...         ...\n",
              "80327    9/9/2013 21:15             nashville  ...     36.1658  -86.784444\n",
              "80328    9/9/2013 22:00                 boise  ...     43.6136 -116.202500\n",
              "80329    9/9/2013 22:00                  napa  ...     38.2972 -122.284444\n",
              "80330    9/9/2013 22:20                vienna  ...     38.9011  -77.265556\n",
              "80331    9/9/2013 23:00                edmond  ...     35.6528  -97.477778\n",
              "\n",
              "[80332 rows x 11 columns]"
            ]
          },
          "metadata": {},
          "execution_count": 2
        }
      ]
    },
    {
      "cell_type": "code",
      "metadata": {
        "colab": {
          "base_uri": "https://localhost:8080/"
        },
        "id": "yT64O3Fq4bhZ",
        "outputId": "7ed391a0-8a8f-4757-e516-5bfdbbafbd1c"
      },
      "source": [
        "m = re.compile(\"\\d+\\/\\d+\\/(\\d+)\")\n",
        "def year (x):\n",
        "  l = m.findall(str(x))\n",
        "  return l[0]\n",
        "df['Year'] = df['datetime'].apply(lambda x: year (x))\n",
        "\n",
        "\n",
        "\n",
        "#Function :\n",
        "def sight (country,year):\n",
        "   M = df[df['Year'] == year]\n",
        "   J = M[M['country'] == country]\n",
        "   L =J.groupby('country').count()\n",
        "   return L['datetime']\n",
        "#Test:\n",
        "sight('gb','2010')"
      ],
      "execution_count": null,
      "outputs": [
        {
          "output_type": "execute_result",
          "data": {
            "text/plain": [
              "country\n",
              "gb    115\n",
              "Name: datetime, dtype: int64"
            ]
          },
          "metadata": {},
          "execution_count": 3
        }
      ]
    },
    {
      "cell_type": "markdown",
      "metadata": {
        "id": "QrnvIsH2c_4I"
      },
      "source": [
        "# Question 2: Part 2"
      ]
    },
    {
      "cell_type": "code",
      "metadata": {
        "colab": {
          "base_uri": "https://localhost:8080/"
        },
        "id": "JOMvp4sl2j0n",
        "outputId": "f9b6fb97-8a6d-4216-ca46-8efd26534de6"
      },
      "source": [
        "r = re.compile(\"(\\d+)\\/\\d+\\/\\d+\")\n",
        "def month (x):\n",
        "   l = r.findall(str(x))\n",
        "   return l[0]\n",
        "df['Month'] = df['datetime'].apply(lambda x: month(x))\n",
        "k = df.groupby('Month').count()\n",
        "L = k.sort_values(by = 'datetime', ascending = False).head(1)\n",
        "L['datetime']"
      ],
      "execution_count": null,
      "outputs": [
        {
          "output_type": "execute_result",
          "data": {
            "text/plain": [
              "Month\n",
              "7    9520\n",
              "Name: datetime, dtype: int64"
            ]
          },
          "metadata": {},
          "execution_count": 4
        }
      ]
    },
    {
      "cell_type": "markdown",
      "metadata": {
        "id": "GIQnUX5mdLrH"
      },
      "source": [
        "# Question 2: Part 3"
      ]
    },
    {
      "cell_type": "code",
      "metadata": {
        "colab": {
          "base_uri": "https://localhost:8080/"
        },
        "id": "L7pAxA63zCgb",
        "outputId": "15d48d12-a5ae-4140-d927-ddb1ec9d486e"
      },
      "source": [
        "df['Hour']=df['datetime'].str.slice(-5,-3)\n",
        "l = df.groupby(['Hour']).count()\n",
        "L =l.sort_values(by = \"datetime\", ascending = False).head(1)\n",
        "L['datetime']"
      ],
      "execution_count": null,
      "outputs": [
        {
          "output_type": "execute_result",
          "data": {
            "text/plain": [
              "Hour\n",
              "21    11445\n",
              "Name: datetime, dtype: int64"
            ]
          },
          "metadata": {},
          "execution_count": 5
        }
      ]
    },
    {
      "cell_type": "markdown",
      "metadata": {
        "id": "k5SgePG1dPXV"
      },
      "source": [
        "# Question 2: Part 4"
      ]
    },
    {
      "cell_type": "code",
      "metadata": {
        "id": "ajxMOX_mFutD",
        "colab": {
          "base_uri": "https://localhost:8080/"
        },
        "outputId": "cd514e06-95ac-4e46-9952-22579b2b040f"
      },
      "source": [
        "r = re.compile('\\w{7,}\\s+\\w{7,}')\n",
        "def comments (x):\n",
        "  l = r.findall(str(x))\n",
        "  if (len(l) >=1):\n",
        "    return l\n",
        "  if(len(l)==0):\n",
        "    return '0'\n",
        "  else:\n",
        "    return '0'\n",
        "df['newcomments'] = df['comments'].apply(lambda x: comments(x))\n",
        "df['len'] = df['newcomments'].apply(lambda x:len(x))\n",
        "# the comment:\n",
        "df['comments'][df['len']==df['len'].max()]"
      ],
      "execution_count": null,
      "outputs": [
        {
          "output_type": "execute_result",
          "data": {
            "text/plain": [
              "18266    Glowing&#44spinning rapidly&#44displaying quic...\n",
              "Name: comments, dtype: object"
            ]
          },
          "metadata": {},
          "execution_count": 85
        }
      ]
    },
    {
      "cell_type": "markdown",
      "metadata": {
        "id": "ftlZdS9jdQyH"
      },
      "source": [
        "# Question 2: Part 5"
      ]
    },
    {
      "cell_type": "code",
      "metadata": {
        "colab": {
          "base_uri": "https://localhost:8080/",
          "height": 111
        },
        "id": "P1EyMTQwBFcL",
        "outputId": "70fc7a52-bad1-4c90-a59e-42e4bdd2a588"
      },
      "source": [
        "d = re.compile('\\b\\d{6}\\b')\n",
        "def check (x):\n",
        "  l = d.findall(str(x))\n",
        "  if(len(l) >=1):\n",
        "    return l\n",
        "  else:\n",
        "    return '0'  \n",
        "df['6nums'] = df['comments'].apply(lambda x: comments(x))\n",
        "df['numslen'] = df['6nums'].apply(lambda x: len(x))\n",
        "l=df.groupby('country').sum()\n",
        "l.sort_values(by = 'numslen' , ascending=False).head(1)"
      ],
      "execution_count": null,
      "outputs": [
        {
          "output_type": "execute_result",
          "data": {
            "text/html": [
              "<div>\n",
              "<style scoped>\n",
              "    .dataframe tbody tr th:only-of-type {\n",
              "        vertical-align: middle;\n",
              "    }\n",
              "\n",
              "    .dataframe tbody tr th {\n",
              "        vertical-align: top;\n",
              "    }\n",
              "\n",
              "    .dataframe thead th {\n",
              "        text-align: right;\n",
              "    }\n",
              "</style>\n",
              "<table border=\"1\" class=\"dataframe\">\n",
              "  <thead>\n",
              "    <tr style=\"text-align: right;\">\n",
              "      <th></th>\n",
              "      <th>longitude</th>\n",
              "      <th>len</th>\n",
              "      <th>numslen</th>\n",
              "    </tr>\n",
              "    <tr>\n",
              "      <th>country</th>\n",
              "      <th></th>\n",
              "      <th></th>\n",
              "      <th></th>\n",
              "    </tr>\n",
              "  </thead>\n",
              "  <tbody>\n",
              "    <tr>\n",
              "      <th>us</th>\n",
              "      <td>-6.232118e+06</td>\n",
              "      <td>67931</td>\n",
              "      <td>67931</td>\n",
              "    </tr>\n",
              "  </tbody>\n",
              "</table>\n",
              "</div>"
            ],
            "text/plain": [
              "           longitude     len  numslen\n",
              "country                              \n",
              "us      -6.232118e+06  67931    67931"
            ]
          },
          "metadata": {},
          "execution_count": 86
        }
      ]
    },
    {
      "cell_type": "markdown",
      "metadata": {
        "id": "yhFKduAwdULq"
      },
      "source": [
        "# Question 2: Part 6"
      ]
    },
    {
      "cell_type": "code",
      "metadata": {
        "colab": {
          "base_uri": "https://localhost:8080/",
          "height": 1000
        },
        "id": "UsGmZ8ZLBt2w",
        "outputId": "05e09ae6-ea06-40ad-eb3d-21af877d0bd6"
      },
      "source": [
        "r = re.compile('\\w{2}\\d\\w{1}')\n",
        "def xxXx (x):\n",
        "  l=r.findall(str(x))\n",
        "  if(len(l)==0):\n",
        "    return '0'\n",
        "  else:\n",
        "    return '1'\n",
        "df['new'] = df['comments'].apply(lambda x: xxXx(x))\n",
        "df[df['new'] == '1']"
      ],
      "execution_count": null,
      "outputs": [
        {
          "output_type": "execute_result",
          "data": {
            "text/html": [
              "<div>\n",
              "<style scoped>\n",
              "    .dataframe tbody tr th:only-of-type {\n",
              "        vertical-align: middle;\n",
              "    }\n",
              "\n",
              "    .dataframe tbody tr th {\n",
              "        vertical-align: top;\n",
              "    }\n",
              "\n",
              "    .dataframe thead th {\n",
              "        text-align: right;\n",
              "    }\n",
              "</style>\n",
              "<table border=\"1\" class=\"dataframe\">\n",
              "  <thead>\n",
              "    <tr style=\"text-align: right;\">\n",
              "      <th></th>\n",
              "      <th>datetime</th>\n",
              "      <th>city</th>\n",
              "      <th>state</th>\n",
              "      <th>country</th>\n",
              "      <th>shape</th>\n",
              "      <th>duration (seconds)</th>\n",
              "      <th>duration (hours/min)</th>\n",
              "      <th>comments</th>\n",
              "      <th>date posted</th>\n",
              "      <th>latitude</th>\n",
              "      <th>longitude</th>\n",
              "      <th>Year</th>\n",
              "      <th>Month</th>\n",
              "      <th>Hour</th>\n",
              "      <th>newcomments</th>\n",
              "      <th>len</th>\n",
              "      <th>6nums</th>\n",
              "      <th>numslen</th>\n",
              "      <th>new</th>\n",
              "    </tr>\n",
              "  </thead>\n",
              "  <tbody>\n",
              "    <tr>\n",
              "      <th>0</th>\n",
              "      <td>10/10/1949 20:30</td>\n",
              "      <td>san marcos</td>\n",
              "      <td>tx</td>\n",
              "      <td>us</td>\n",
              "      <td>cylinder</td>\n",
              "      <td>2700</td>\n",
              "      <td>45 minutes</td>\n",
              "      <td>This event took place in early fall around 194...</td>\n",
              "      <td>4/27/2004</td>\n",
              "      <td>29.8830556</td>\n",
              "      <td>-97.941111</td>\n",
              "      <td>1949</td>\n",
              "      <td>10</td>\n",
              "      <td>20</td>\n",
              "      <td>0</td>\n",
              "      <td>1</td>\n",
              "      <td>0</td>\n",
              "      <td>1</td>\n",
              "      <td>1</td>\n",
              "    </tr>\n",
              "    <tr>\n",
              "      <th>1</th>\n",
              "      <td>10/10/1949 21:00</td>\n",
              "      <td>lackland afb</td>\n",
              "      <td>tx</td>\n",
              "      <td>NaN</td>\n",
              "      <td>light</td>\n",
              "      <td>7200</td>\n",
              "      <td>1-2 hrs</td>\n",
              "      <td>1949 Lackland AFB&amp;#44 TX.  Lights racing acros...</td>\n",
              "      <td>12/16/2005</td>\n",
              "      <td>29.38421</td>\n",
              "      <td>-98.581082</td>\n",
              "      <td>1949</td>\n",
              "      <td>10</td>\n",
              "      <td>21</td>\n",
              "      <td>0</td>\n",
              "      <td>1</td>\n",
              "      <td>0</td>\n",
              "      <td>1</td>\n",
              "      <td>1</td>\n",
              "    </tr>\n",
              "    <tr>\n",
              "      <th>4</th>\n",
              "      <td>10/10/1960 20:00</td>\n",
              "      <td>kaneohe</td>\n",
              "      <td>hi</td>\n",
              "      <td>us</td>\n",
              "      <td>light</td>\n",
              "      <td>900</td>\n",
              "      <td>15 minutes</td>\n",
              "      <td>AS a Marine 1st Lt. flying an FJ4B fighter/att...</td>\n",
              "      <td>1/22/2004</td>\n",
              "      <td>21.4180556</td>\n",
              "      <td>-157.803611</td>\n",
              "      <td>1960</td>\n",
              "      <td>10</td>\n",
              "      <td>20</td>\n",
              "      <td>0</td>\n",
              "      <td>1</td>\n",
              "      <td>0</td>\n",
              "      <td>1</td>\n",
              "      <td>1</td>\n",
              "    </tr>\n",
              "    <tr>\n",
              "      <th>8</th>\n",
              "      <td>10/10/1966 20:00</td>\n",
              "      <td>pell city</td>\n",
              "      <td>al</td>\n",
              "      <td>us</td>\n",
              "      <td>disk</td>\n",
              "      <td>180</td>\n",
              "      <td>3  minutes</td>\n",
              "      <td>Strobe Lighted disk shape object observed clos...</td>\n",
              "      <td>3/19/2009</td>\n",
              "      <td>33.5861111</td>\n",
              "      <td>-86.286111</td>\n",
              "      <td>1966</td>\n",
              "      <td>10</td>\n",
              "      <td>20</td>\n",
              "      <td>0</td>\n",
              "      <td>1</td>\n",
              "      <td>0</td>\n",
              "      <td>1</td>\n",
              "      <td>1</td>\n",
              "    </tr>\n",
              "    <tr>\n",
              "      <th>15</th>\n",
              "      <td>10/10/1972 19:00</td>\n",
              "      <td>harlan county</td>\n",
              "      <td>ky</td>\n",
              "      <td>us</td>\n",
              "      <td>circle</td>\n",
              "      <td>1200</td>\n",
              "      <td>20minutes</td>\n",
              "      <td>On october 10&amp;#44 1972 myself&amp;#44my 5yrs.daugh...</td>\n",
              "      <td>9/15/2005</td>\n",
              "      <td>36.8430556</td>\n",
              "      <td>-83.321944</td>\n",
              "      <td>1972</td>\n",
              "      <td>10</td>\n",
              "      <td>19</td>\n",
              "      <td>0</td>\n",
              "      <td>1</td>\n",
              "      <td>0</td>\n",
              "      <td>1</td>\n",
              "      <td>1</td>\n",
              "    </tr>\n",
              "    <tr>\n",
              "      <th>...</th>\n",
              "      <td>...</td>\n",
              "      <td>...</td>\n",
              "      <td>...</td>\n",
              "      <td>...</td>\n",
              "      <td>...</td>\n",
              "      <td>...</td>\n",
              "      <td>...</td>\n",
              "      <td>...</td>\n",
              "      <td>...</td>\n",
              "      <td>...</td>\n",
              "      <td>...</td>\n",
              "      <td>...</td>\n",
              "      <td>...</td>\n",
              "      <td>...</td>\n",
              "      <td>...</td>\n",
              "      <td>...</td>\n",
              "      <td>...</td>\n",
              "      <td>...</td>\n",
              "      <td>...</td>\n",
              "    </tr>\n",
              "    <tr>\n",
              "      <th>80219</th>\n",
              "      <td>9/9/2007 21:30</td>\n",
              "      <td>antelope</td>\n",
              "      <td>ca</td>\n",
              "      <td>us</td>\n",
              "      <td>other</td>\n",
              "      <td>900</td>\n",
              "      <td>15 +- mins</td>\n",
              "      <td>strange object over north sacramento 9:30ish p...</td>\n",
              "      <td>10/8/2007</td>\n",
              "      <td>38.7083</td>\n",
              "      <td>-121.328889</td>\n",
              "      <td>2007</td>\n",
              "      <td>9</td>\n",
              "      <td>21</td>\n",
              "      <td>0</td>\n",
              "      <td>1</td>\n",
              "      <td>0</td>\n",
              "      <td>1</td>\n",
              "      <td>1</td>\n",
              "    </tr>\n",
              "    <tr>\n",
              "      <th>80241</th>\n",
              "      <td>9/9/2009 20:10</td>\n",
              "      <td>haverhill</td>\n",
              "      <td>ma</td>\n",
              "      <td>us</td>\n",
              "      <td>light</td>\n",
              "      <td>120</td>\n",
              "      <td>approx 2 min</td>\n",
              "      <td>On 09/09/2009 at 20:00 ET I notice what appear...</td>\n",
              "      <td>12/12/2009</td>\n",
              "      <td>42.7761</td>\n",
              "      <td>-71.077778</td>\n",
              "      <td>2009</td>\n",
              "      <td>9</td>\n",
              "      <td>20</td>\n",
              "      <td>0</td>\n",
              "      <td>1</td>\n",
              "      <td>0</td>\n",
              "      <td>1</td>\n",
              "      <td>1</td>\n",
              "    </tr>\n",
              "    <tr>\n",
              "      <th>80266</th>\n",
              "      <td>9/9/2010 20:30</td>\n",
              "      <td>tinley park</td>\n",
              "      <td>il</td>\n",
              "      <td>us</td>\n",
              "      <td>light</td>\n",
              "      <td>300</td>\n",
              "      <td>5 mins</td>\n",
              "      <td>I was outside BBQ and as always I tend to look...</td>\n",
              "      <td>11/21/2010</td>\n",
              "      <td>41.5733</td>\n",
              "      <td>-87.784444</td>\n",
              "      <td>2010</td>\n",
              "      <td>9</td>\n",
              "      <td>20</td>\n",
              "      <td>0</td>\n",
              "      <td>1</td>\n",
              "      <td>0</td>\n",
              "      <td>1</td>\n",
              "      <td>1</td>\n",
              "    </tr>\n",
              "    <tr>\n",
              "      <th>80286</th>\n",
              "      <td>9/9/2011 23:00</td>\n",
              "      <td>kenmore</td>\n",
              "      <td>wa</td>\n",
              "      <td>us</td>\n",
              "      <td>changing</td>\n",
              "      <td>5400</td>\n",
              "      <td>1.5 hours</td>\n",
              "      <td>UFO changing colors&amp;#44 shapes and pulsating -...</td>\n",
              "      <td>10/10/2011</td>\n",
              "      <td>47.7575</td>\n",
              "      <td>-122.242778</td>\n",
              "      <td>2011</td>\n",
              "      <td>9</td>\n",
              "      <td>23</td>\n",
              "      <td>0</td>\n",
              "      <td>1</td>\n",
              "      <td>0</td>\n",
              "      <td>1</td>\n",
              "      <td>1</td>\n",
              "    </tr>\n",
              "    <tr>\n",
              "      <th>80295</th>\n",
              "      <td>9/9/2012 14:00</td>\n",
              "      <td>pictou (canada)</td>\n",
              "      <td>ns</td>\n",
              "      <td>ca</td>\n",
              "      <td>disk</td>\n",
              "      <td>600</td>\n",
              "      <td>10 minutes</td>\n",
              "      <td>Spotted a object over the town&amp;#39s business d...</td>\n",
              "      <td>9/24/2012</td>\n",
              "      <td>45.6667</td>\n",
              "      <td>-62.700000</td>\n",
              "      <td>2012</td>\n",
              "      <td>9</td>\n",
              "      <td>14</td>\n",
              "      <td>[business district]</td>\n",
              "      <td>1</td>\n",
              "      <td>[business district]</td>\n",
              "      <td>1</td>\n",
              "      <td>1</td>\n",
              "    </tr>\n",
              "  </tbody>\n",
              "</table>\n",
              "<p>4801 rows × 19 columns</p>\n",
              "</div>"
            ],
            "text/plain": [
              "               datetime             city  ... numslen new\n",
              "0      10/10/1949 20:30       san marcos  ...       1   1\n",
              "1      10/10/1949 21:00     lackland afb  ...       1   1\n",
              "4      10/10/1960 20:00          kaneohe  ...       1   1\n",
              "8      10/10/1966 20:00        pell city  ...       1   1\n",
              "15     10/10/1972 19:00    harlan county  ...       1   1\n",
              "...                 ...              ...  ...     ...  ..\n",
              "80219    9/9/2007 21:30         antelope  ...       1   1\n",
              "80241    9/9/2009 20:10        haverhill  ...       1   1\n",
              "80266    9/9/2010 20:30      tinley park  ...       1   1\n",
              "80286    9/9/2011 23:00          kenmore  ...       1   1\n",
              "80295    9/9/2012 14:00  pictou (canada)  ...       1   1\n",
              "\n",
              "[4801 rows x 19 columns]"
            ]
          },
          "metadata": {},
          "execution_count": 87
        }
      ]
    }
  ]
}